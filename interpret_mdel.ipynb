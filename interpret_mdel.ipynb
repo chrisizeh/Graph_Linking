{
 "cells": [
  {
   "cell_type": "code",
   "execution_count": 1,
   "id": "93769c2c",
   "metadata": {},
   "outputs": [
    {
     "name": "stderr",
     "output_type": "stream",
     "text": [
      "2025-05-16 15:24:46.972119: I tensorflow/core/util/port.cc:153] oneDNN custom operations are on. You may see slightly different numerical results due to floating-point round-off errors from different computation orders. To turn them off, set the environment variable `TF_ENABLE_ONEDNN_OPTS=0`.\n",
      "2025-05-16 15:24:46.993254: E external/local_xla/xla/stream_executor/cuda/cuda_fft.cc:477] Unable to register cuFFT factory: Attempting to register factory for plugin cuFFT when one has already been registered\n",
      "WARNING: All log messages before absl::InitializeLog() is called are written to STDERR\n",
      "E0000 00:00:1747401887.018342    1059 cuda_dnn.cc:8310] Unable to register cuDNN factory: Attempting to register factory for plugin cuDNN when one has already been registered\n",
      "E0000 00:00:1747401887.025900    1059 cuda_blas.cc:1418] Unable to register cuBLAS factory: Attempting to register factory for plugin cuBLAS when one has already been registered\n",
      "2025-05-16 15:24:47.052773: I tensorflow/core/platform/cpu_feature_guard.cc:210] This TensorFlow binary is optimized to use available CPU instructions in performance-critical operations.\n",
      "To enable the following instructions: AVX2 AVX512F AVX512_VNNI FMA, in other operations, rebuild TensorFlow with the appropriate compiler flags.\n"
     ]
    }
   ],
   "source": [
    "import os\n",
    "import datetime\n",
    "import time\n",
    "from IPython.display import clear_output\n",
    "\n",
    "import torch\n",
    "from torch.optim.lr_scheduler import CosineAnnealingLR\n",
    "from torch_geometric.loader.dataloader import DataLoader\n",
    "import torch.nn.functional as F\n",
    "\n",
    "from sklearn.model_selection import train_test_split\n",
    "\n",
    "from ClusterDataset import ClusterDataset\n",
    "from training import *\n",
    "from data_statistics import *\n",
    "\n",
    "from GNN_TrackLinkingNet import GNN_TrackLinkingNet, FocalLoss, EarlyStopping, weight_init\n",
    "\n",
    "from IPython.display import display\n",
    "\n",
    "from captum.attr import IntegratedGradients\n",
    "from captum.attr import LayerConductance\n",
    "from captum.attr import NeuronConductance"
   ]
  },
  {
   "cell_type": "code",
   "execution_count": 2,
   "id": "2f01ac58",
   "metadata": {},
   "outputs": [
    {
     "name": "stdout",
     "output_type": "stream",
     "text": [
      "Using device: cuda\n"
     ]
    }
   ],
   "source": [
    "# CUDA Setup\n",
    "device = torch.device('cuda' if torch.cuda.is_available() else \"cpu\")\n",
    "cpu = torch.device(\"cpu\")\n",
    "\n",
    "print(f\"Using device: {device}\")"
   ]
  },
  {
   "cell_type": "code",
   "execution_count": 3,
   "id": "7c0a8e8b",
   "metadata": {
    "scrolled": true
   },
   "outputs": [],
   "source": [
    "# Load the dataset\n",
    "hist_folder = \"/eos/user/c/czeh/histo_new/\"\n",
    "data_folder_training = \"/eos/user/c/czeh/graph_data\"\n",
    "data_folder_test = \"/eos/user/c/czeh/graph_data_test\"\n",
    "\n",
    "model_folder = \"/eos/user/c/czeh/model\"\n",
    "dataset_training = ClusterDataset(data_folder_training, hist_folder)\n",
    "dataset_test = ClusterDataset(data_folder_test, hist_folder, test=True)"
   ]
  },
  {
   "cell_type": "code",
   "execution_count": 4,
   "id": "79d1beba",
   "metadata": {},
   "outputs": [
    {
     "name": "stdout",
     "output_type": "stream",
     "text": [
      "Number of events in training dataset: 299\n"
     ]
    },
    {
     "name": "stderr",
     "output_type": "stream",
     "text": [
      "/eos/home-i04/c/czeh/SWAN_projects/Graph_Linking/ClusterDataset.py:229: FutureWarning: You are using `torch.load` with `weights_only=False` (the current default value), which uses the default pickle module implicitly. It is possible to construct malicious pickle data which will execute arbitrary code during unpickling (See https://github.com/pytorch/pytorch/blob/main/SECURITY.md#untrusted-models for more details). In a future release, the default value for `weights_only` will be flipped to `True`. This limits the functions that could be executed during unpickling. Arbitrary objects will no longer be allowed to be loaded via this mode unless they are explicitly allowlisted by the user via `torch.serialization.add_safe_globals`. We recommend you start setting `weights_only=True` for any use case where you don't have full control of the loaded file. Please open an issue on GitHub for any issues related to this experimental feature.\n",
      "  data = torch.load(osp.join(self.processed_dir, f'data_{idx}.pt'))\n"
     ]
    },
    {
     "name": "stdout",
     "output_type": "stream",
     "text": [
      "Number of nodes: 8710\n",
      "Mean Number of nodes: 29.130434782608695\n",
      "Number of edges: 53836\n",
      "Mean Number of edges: 180.05351170568562\n",
      "Number of positive edges: 47377\n",
      "Mean Number of positive edges: 158.45150756835938\n",
      "Number of negative edges: 6459\n",
      "Mean Number of negative edges: 21.602006912231445\n"
     ]
    }
   ],
   "source": [
    "print_dataset_statistics(dataset_training)"
   ]
  },
  {
   "cell_type": "code",
   "execution_count": 5,
   "id": "6e09a9a3",
   "metadata": {},
   "outputs": [
    {
     "name": "stdout",
     "output_type": "stream",
     "text": [
      "Number of events in training dataset: 100\n",
      "Number of nodes: 2891\n",
      "Mean Number of nodes: 28.91\n",
      "Number of edges: 17805\n",
      "Mean Number of edges: 178.05\n",
      "Number of positive edges: 15627\n",
      "Mean Number of positive edges: 156.27000427246094\n",
      "Number of negative edges: 2178\n",
      "Mean Number of negative edges: 21.780000686645508\n"
     ]
    }
   ],
   "source": [
    "print_dataset_statistics(dataset_test)"
   ]
  },
  {
   "cell_type": "code",
   "execution_count": 6,
   "id": "efe87ea9",
   "metadata": {},
   "outputs": [],
   "source": [
    "train_dl = DataLoader(dataset_training, shuffle=True)\n",
    "test_dl = DataLoader(dataset_test, shuffle=True)"
   ]
  },
  {
   "cell_type": "code",
   "execution_count": 39,
   "id": "a9114849",
   "metadata": {},
   "outputs": [
    {
     "name": "stderr",
     "output_type": "stream",
     "text": [
      "/eos/home-i04/c/czeh/SWAN_projects/Graph_Linking/ClusterDataset.py:229: FutureWarning: You are using `torch.load` with `weights_only=False` (the current default value), which uses the default pickle module implicitly. It is possible to construct malicious pickle data which will execute arbitrary code during unpickling (See https://github.com/pytorch/pytorch/blob/main/SECURITY.md#untrusted-models for more details). In a future release, the default value for `weights_only` will be flipped to `True`. This limits the functions that could be executed during unpickling. Arbitrary objects will no longer be allowed to be loaded via this mode unless they are explicitly allowlisted by the user via `torch.serialization.add_safe_globals`. We recommend you start setting `weights_only=True` for any use case where you don't have full control of the loaded file. Please open an issue on GitHub for any issues related to this experimental feature.\n",
      "  data = torch.load(osp.join(self.processed_dir, f'data_{idx}.pt'))\n"
     ]
    },
    {
     "data": {
      "text/plain": [
       "GNN_TrackLinkingNet(\n",
       "  (layer): LeakyReLU(negative_slope=0.01)\n",
       "  (inputnetwork): Sequential(\n",
       "    (0): Linear(in_features=29, out_features=16, bias=True)\n",
       "    (1): LeakyReLU(negative_slope=0.01)\n",
       "    (2): Dropout(p=0.3, inplace=False)\n",
       "    (3): Linear(in_features=16, out_features=16, bias=True)\n",
       "    (4): LeakyReLU(negative_slope=0.01)\n",
       "  )\n",
       "  (edge_inputnetwork): Sequential(\n",
       "    (0): Linear(in_features=7, out_features=16, bias=True)\n",
       "    (1): LeakyReLU(negative_slope=0.01)\n",
       "    (2): Dropout(p=0.3, inplace=False)\n",
       "    (3): Linear(in_features=16, out_features=16, bias=True)\n",
       "    (4): LeakyReLU(negative_slope=0.01)\n",
       "  )\n",
       "  (attention_direct): Sequential(\n",
       "    (0): Linear(in_features=16, out_features=16, bias=True)\n",
       "    (1): LeakyReLU(negative_slope=0.01)\n",
       "    (2): Dropout(p=0.3, inplace=False)\n",
       "    (3): Linear(in_features=16, out_features=1, bias=True)\n",
       "    (4): Sigmoid()\n",
       "  )\n",
       "  (attention_reverse): Sequential(\n",
       "    (0): Linear(in_features=16, out_features=16, bias=True)\n",
       "    (1): LeakyReLU(negative_slope=0.01)\n",
       "    (2): Dropout(p=0.3, inplace=False)\n",
       "    (3): Linear(in_features=16, out_features=1, bias=True)\n",
       "    (4): Sigmoid()\n",
       "  )\n",
       "  (graphconvs): ModuleList(\n",
       "    (0-1): 2 x EdgeConvBlock(\n",
       "      (drop): Dropout(p=0.3, inplace=False)\n",
       "      (convs): ModuleList(\n",
       "        (0): Linear(in_features=32, out_features=32, bias=True)\n",
       "        (1): Linear(in_features=32, out_features=16, bias=True)\n",
       "      )\n",
       "      (acts): ModuleList(\n",
       "        (0-1): 2 x ReLU()\n",
       "      )\n",
       "      (sc_act): ReLU()\n",
       "    )\n",
       "  )\n",
       "  (edgenetwork): Sequential(\n",
       "    (0): Linear(in_features=55, out_features=16, bias=True)\n",
       "    (1): LeakyReLU(negative_slope=0.01)\n",
       "    (2): Dropout(p=0.3, inplace=False)\n",
       "    (3): Linear(in_features=16, out_features=1, bias=True)\n",
       "    (4): Sigmoid()\n",
       "  )\n",
       ")"
      ]
     },
     "execution_count": 39,
     "metadata": {},
     "output_type": "execute_result"
    }
   ],
   "source": [
    "model = GNN_TrackLinkingNet(input_dim = dataset_training.get(0).x.shape[1], \n",
    "                                edge_feature_dim=dataset_training.get(0).edges_features.shape[1],\n",
    "                                edge_hidden_dim=16, hidden_dim=16, weighted_aggr=True,\n",
    "                               dropout=0.3)\n",
    "model = model.to(device)\n",
    "optimizer = torch.optim.Adam(model.parameters(), lr=0.001)\n",
    "model.apply(weight_init)\n",
    "\n",
    "weights = torch.load(model_folder + \"/epoch_200_date_2025-05-15_loss_25.7733.pt\", weights_only=True)\n",
    "model.load_state_dict(weights[\"model_state_dict\"])\n",
    "optimizer.load_state_dict(weights[\"optimizer_state_dict\"])\n",
    "\n",
    "model.eval()"
   ]
  },
  {
   "cell_type": "code",
   "execution_count": 40,
   "id": "feffbfc6",
   "metadata": {},
   "outputs": [],
   "source": [
    "# Helper method to print importances and visualize distribution\n",
    "def visualize_importances(feature_names, importances, title=\"Average Feature Importances\", plot=True, axis_title=\"Features\"):\n",
    "    print(title)\n",
    "    for i in range(len(feature_names)):\n",
    "        print(feature_names[i], \": \", '%.3f'%(importances[i]))\n",
    "    x_pos = (np.arange(len(feature_names)))\n",
    "    if plot:\n",
    "        plt.figure(figsize=(12,6))\n",
    "        plt.bar(x_pos, importances, align='center')\n",
    "        plt.xticks(x_pos, feature_names, wrap=True)\n",
    "        plt.xlabel(axis_title)\n",
    "        plt.title(title)"
   ]
  },
  {
   "cell_type": "markdown",
   "id": "c18f03d7",
   "metadata": {},
   "source": [
    "## Run Feature Importance on Feature input network"
   ]
  },
  {
   "cell_type": "code",
   "execution_count": 93,
   "id": "31648324",
   "metadata": {
    "scrolled": false
   },
   "outputs": [
    {
     "name": "stderr",
     "output_type": "stream",
     "text": [
      "/eos/home-i04/c/czeh/SWAN_projects/Graph_Linking/ClusterDataset.py:229: FutureWarning: You are using `torch.load` with `weights_only=False` (the current default value), which uses the default pickle module implicitly. It is possible to construct malicious pickle data which will execute arbitrary code during unpickling (See https://github.com/pytorch/pytorch/blob/main/SECURITY.md#untrusted-models for more details). In a future release, the default value for `weights_only` will be flipped to `True`. This limits the functions that could be executed during unpickling. Arbitrary objects will no longer be allowed to be loaded via this mode unless they are explicitly allowlisted by the user via `torch.serialization.add_safe_globals`. We recommend you start setting `weights_only=True` for any use case where you don't have full control of the loaded file. Please open an issue on GitHub for any issues related to this experimental feature.\n",
      "  data = torch.load(osp.join(self.processed_dir, f'data_{idx}.pt'))\n"
     ]
    }
   ],
   "source": [
    "xs = []\n",
    "for sample in train_dl:\n",
    "    x = sample.x\n",
    "    x = torch.nan_to_num(x, nan=0.0)\n",
    "    \n",
    "    X_norm = torch.zeros_like(x)\n",
    "    epsilon = 10e-5 * torch.ones(x.shape)\n",
    "    std = x.std(dim=0, unbiased=False) + epsilon\n",
    "    X_norm = (x - x.mean(dim=0)) / std\n",
    "    xs.extend(X_norm)\n",
    "    \n",
    "    if(len(xs) > 100):\n",
    "        break"
   ]
  },
  {
   "cell_type": "code",
   "execution_count": 94,
   "id": "e769b054",
   "metadata": {},
   "outputs": [
    {
     "data": {
      "text/plain": [
       "torch.Size([112, 29])"
      ]
     },
     "execution_count": 94,
     "metadata": {},
     "output_type": "execute_result"
    }
   ],
   "source": [
    "test_tensor = torch.tensor(np.array(xs)).float().to(device)\n",
    "test_tensor.shape"
   ]
  },
  {
   "cell_type": "code",
   "execution_count": 95,
   "id": "b192c881",
   "metadata": {},
   "outputs": [],
   "source": [
    "features = []\n",
    "edges = []\n",
    "edge_features = []\n",
    "for sample in train_dl:\n",
    "    feature, edge, edge_feature = prepare_network_input_data(sample.x, sample.edge_index, edge_features=sample.edges_features)\n",
    "    features.append(feature)\n",
    "    edges.append(edge)\n",
    "    edge_features.append(edge_feature)\n",
    "    \n",
    "    if(len(xs) > 10):\n",
    "        break\n",
    "        \n",
    "test_features = torch.tensor(np.array(features)).float()"
   ]
  },
  {
   "cell_type": "code",
   "execution_count": 96,
   "id": "55d42eba",
   "metadata": {},
   "outputs": [],
   "source": [
    "ig = IntegratedGradients(model.inputnetwork)"
   ]
  },
  {
   "cell_type": "code",
   "execution_count": 97,
   "id": "bac9db7f",
   "metadata": {},
   "outputs": [
    {
     "data": {
      "text/plain": [
       "tensor([[ 2.5020e-01, -1.1202e-03, -3.7396e-03,  ...,  5.4273e-01,\n",
       "         -1.0925e-03, -1.5845e-03],\n",
       "        [ 2.3877e-01,  3.1636e-01, -4.1408e-03,  ...,  5.6214e-01,\n",
       "          3.9598e-01, -3.2810e-03],\n",
       "        [-4.0752e-04, -2.3766e-04, -1.8533e-04,  ..., -5.9052e-04,\n",
       "         -1.1958e-03, -1.1716e-03],\n",
       "        ...,\n",
       "        [-1.1291e-02,  3.1884e-01, -5.2848e-03,  ...,  6.3797e-01,\n",
       "         -4.8694e-03, -2.2055e-02],\n",
       "        [-5.3488e-04, -1.4947e-03,  6.6691e-02,  ...,  1.7466e-01,\n",
       "         -2.0665e-03, -5.6457e-03],\n",
       "        [-2.7907e-02,  6.1169e-01, -1.6345e-03,  ..., -2.8570e-03,\n",
       "         -1.5895e-02, -4.0589e-02]], device='cuda:0',\n",
       "       grad_fn=<LeakyReluBackward0>)"
      ]
     },
     "execution_count": 97,
     "metadata": {},
     "output_type": "execute_result"
    }
   ],
   "source": [
    "model.inputnetwork(test_tensor)"
   ]
  },
  {
   "cell_type": "code",
   "execution_count": 98,
   "id": "2f3b8080",
   "metadata": {},
   "outputs": [],
   "source": [
    "test_tensor.requires_grad_()\n",
    "attr, delta = ig.attribute(test_tensor, target=5, return_convergence_delta=True)\n",
    "attr = attr.to(cpu).detach().numpy()"
   ]
  },
  {
   "cell_type": "code",
   "execution_count": 99,
   "id": "d426a5cb",
   "metadata": {},
   "outputs": [
    {
     "name": "stdout",
     "output_type": "stream",
     "text": [
      "Average Feature Importances\n",
      "barycenter_x :  0.010\n",
      "barycenter_y :  -0.004\n",
      "barycenter_z :  0.001\n",
      "barycenter_eta :  0.011\n",
      "barycenter_phi :  0.030\n",
      "eVector0_x :  0.000\n",
      "eVector0_y :  0.004\n",
      "eVector0_z :  0.003\n",
      "EV1 :  -0.000\n",
      "EV2 :  -0.000\n",
      "EV3 :  0.001\n",
      "sigmaPCA1 :  -0.000\n",
      "sigmaPCA2 :  0.001\n",
      "sigmaPCA3 :  -0.001\n",
      "num_LCs :  0.015\n",
      "num_hits :  0.018\n",
      "raw_energy :  -0.021\n",
      "raw_em_energy :  0.010\n",
      "photon_prob :  0.000\n",
      "electron_prob :  0.000\n",
      "muon_prob :  0.000\n",
      "neutral_pion_prob :  0.000\n",
      "charged_hadron_prob :  0.007\n",
      "neutral_hadron_prob :  0.000\n",
      "z_min :  0.021\n",
      "z_max :  -0.003\n",
      "LC_density :  0.015\n",
      "trackster_density :  -0.000\n",
      "time :  0.031\n"
     ]
    },
    {
     "data": {
      "image/png": "[encoded data removed]",
      "text/plain": [
       "<Figure size 864x432 with 1 Axes>"
      ]
     },
     "metadata": {
      "needs_background": "light"
     },
     "output_type": "display_data"
    }
   ],
   "source": [
    "visualize_importances(dataset_training.node_feature_keys, np.mean(attr, axis=0))"
   ]
  },
  {
   "cell_type": "code",
   "execution_count": 104,
   "id": "71ddc757",
   "metadata": {},
   "outputs": [],
   "source": [
    "cond = LayerConductance(model.inputnetwork, model.inputnetwork[1])\n",
    "cond_vals = cond.attribute(test_tensor,target=1)\n",
    "cond_vals = cond_vals.to(cpu).detach().numpy()"
   ]
  },
  {
   "cell_type": "code",
   "execution_count": 105,
   "id": "16a4c7e9",
   "metadata": {},
   "outputs": [
    {
     "name": "stdout",
     "output_type": "stream",
     "text": [
      "Average Neuron Importances\n",
      "0 :  0.138\n",
      "1 :  -0.009\n",
      "2 :  -0.031\n",
      "3 :  0.013\n",
      "4 :  -0.012\n",
      "5 :  -0.026\n",
      "6 :  0.003\n",
      "7 :  0.002\n",
      "8 :  0.003\n",
      "9 :  -0.026\n",
      "10 :  -0.010\n",
      "11 :  0.006\n",
      "12 :  0.000\n",
      "13 :  -0.024\n",
      "14 :  0.001\n",
      "15 :  0.049\n"
     ]
    },
    {
     "data": {
      "image/png": "[encoded data removed]",
      "text/plain": [
       "<Figure size 864x432 with 1 Axes>"
      ]
     },
     "metadata": {
      "needs_background": "light"
     },
     "output_type": "display_data"
    }
   ],
   "source": [
    "visualize_importances(range(16),np.mean(cond_vals, axis=0),title=\"Average Neuron Importances\", axis_title=\"Neurons\")"
   ]
  },
  {
   "cell_type": "code",
   "execution_count": 92,
   "id": "fbe71ed7",
   "metadata": {},
   "outputs": [
    {
     "data": {
      "image/png": "[encoded data removed]",
      "text/plain": [
       "<Figure size 432x288 with 1 Axes>"
      ]
     },
     "metadata": {
      "needs_background": "light"
     },
     "output_type": "display_data"
    },
    {
     "data": {
      "image/png": "[encoded data removed]",
      "text/plain": [
       "<Figure size 432x288 with 1 Axes>"
      ]
     },
     "metadata": {
      "needs_background": "light"
     },
     "output_type": "display_data"
    }
   ],
   "source": [
    "plt.hist(cond_vals[:,0], 100);\n",
    "plt.title(\"Neuron 0 Distribution\")\n",
    "plt.figure()\n",
    "plt.hist(cond_vals[:,15], 100);\n",
    "plt.title(\"Neuron 10 Distribution\");"
   ]
  },
  {
   "cell_type": "code",
   "execution_count": 89,
   "id": "465fab7a",
   "metadata": {},
   "outputs": [],
   "source": [
    "neuron_cond = NeuronConductance(model.inputnetwork, model.inputnetwork[1])"
   ]
  },
  {
   "cell_type": "code",
   "execution_count": 90,
   "id": "8454c156",
   "metadata": {},
   "outputs": [],
   "source": [
    "neuron_cond_vals = neuron_cond.attribute(test_tensor, neuron_selector=0, target=1)"
   ]
  },
  {
   "cell_type": "code",
   "execution_count": 91,
   "id": "cd4c8c2e",
   "metadata": {},
   "outputs": [
    {
     "name": "stdout",
     "output_type": "stream",
     "text": [
      "Average Feature Importances for Neuron\n",
      "barycenter_x :  0.000\n",
      "barycenter_y :  0.000\n",
      "barycenter_z :  0.004\n",
      "barycenter_eta :  -0.000\n",
      "barycenter_phi :  0.109\n",
      "eVector0_x :  -0.000\n",
      "eVector0_y :  0.000\n",
      "eVector0_z :  0.004\n",
      "EV1 :  0.002\n",
      "EV2 :  0.000\n",
      "EV3 :  0.000\n",
      "sigmaPCA1 :  -0.000\n",
      "sigmaPCA2 :  -0.000\n",
      "sigmaPCA3 :  0.000\n",
      "num_LCs :  0.000\n",
      "num_hits :  0.011\n",
      "raw_energy :  -0.009\n",
      "raw_em_energy :  -0.003\n",
      "photon_prob :  0.002\n",
      "electron_prob :  -0.000\n",
      "muon_prob :  -0.000\n",
      "neutral_pion_prob :  -0.000\n",
      "charged_hadron_prob :  -0.000\n",
      "neutral_hadron_prob :  -0.000\n",
      "z_min :  0.002\n",
      "z_max :  -0.004\n",
      "LC_density :  0.006\n",
      "trackster_density :  -0.000\n",
      "time :  0.011\n"
     ]
    },
    {
     "data": {
      "image/png": "[encoded data removed]",
      "text/plain": [
       "<Figure size 864x432 with 1 Axes>"
      ]
     },
     "metadata": {
      "needs_background": "light"
     },
     "output_type": "display_data"
    }
   ],
   "source": [
    "visualize_importances(dataset_training.node_feature_keys, neuron_cond_vals.to(cpu).mean(dim=0).detach().numpy(), title=\"Average Feature Importances for Neuron\")"
   ]
  },
  {
   "cell_type": "markdown",
   "id": "773d3710",
   "metadata": {},
   "source": [
    "## Try feature importance on full network (Not working)"
   ]
  },
  {
   "cell_type": "code",
   "execution_count": null,
   "id": "8e2f723e",
   "metadata": {},
   "outputs": [],
   "source": [
    "sample = next(iter(train_dl))[0]\n",
    "sample = sample.to(device)\n",
    "data = prepare_network_input_data(sample.x, sample.edge_index, edge_features=sample.edges_features)\n",
    "\n",
    "for d in data:\n",
    "    d.requires_grad_()"
   ]
  },
  {
   "cell_type": "code",
   "execution_count": null,
   "id": "c62fefbb",
   "metadata": {},
   "outputs": [],
   "source": [
    "model(*data, device=device)"
   ]
  },
  {
   "cell_type": "code",
   "execution_count": null,
   "id": "2ac76c50",
   "metadata": {},
   "outputs": [],
   "source": [
    "ig = IntegratedGradients((lambda x, edge_index, edge_features: model(x, edge_index, edge_features, device=device)))\n",
    "# ig = IntegratedGradients(model)"
   ]
  },
  {
   "cell_type": "code",
   "execution_count": null,
   "id": "3f9d725a",
   "metadata": {
    "scrolled": false
   },
   "outputs": [],
   "source": [
    "attr, delta = ig.attribute(data, target=1, return_convergence_delta=True)\n",
    "attr = attr.to(cpu).detach().numpy()"
   ]
  },
  {
   "cell_type": "code",
   "execution_count": null,
   "id": "6e553031",
   "metadata": {},
   "outputs": [],
   "source": []
  },
  {
   "cell_type": "code",
   "execution_count": null,
   "id": "197eeb96",
   "metadata": {},
   "outputs": [],
   "source": []
  },
  {
   "cell_type": "code",
   "execution_count": null,
   "id": "2be0fa86",
   "metadata": {},
   "outputs": [],
   "source": [
    "\n"
   ]
  },
  {
   "cell_type": "code",
   "execution_count": null,
   "id": "e24fd52c",
   "metadata": {},
   "outputs": [],
   "source": []
  }
 ],
 "metadata": {
  "@webio": {
   "lastCommId": null,
   "lastKernelId": null
  },
  "kernelspec": {
   "display_name": "Python 3",
   "language": "python",
   "name": "python3"
  },
  "language_info": {
   "codemirror_mode": {
    "name": "ipython",
    "version": 3
   },
   "file_extension": ".py",
   "mimetype": "text/x-python",
   "name": "python",
   "nbconvert_exporter": "python",
   "pygments_lexer": "ipython3",
   "version": "3.11.9"
  }
 },
 "nbformat": 4,
 "nbformat_minor": 5
}
