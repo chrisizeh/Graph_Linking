{
 "cells": [
  {
   "cell_type": "code",
   "execution_count": 1,
   "id": "79e44c6e",
   "metadata": {},
   "outputs": [
    {
     "name": "stderr",
     "output_type": "stream",
     "text": [
      "2025-05-21 13:06:17.764652: I tensorflow/core/util/port.cc:153] oneDNN custom operations are on. You may see slightly different numerical results due to floating-point round-off errors from different computation orders. To turn them off, set the environment variable `TF_ENABLE_ONEDNN_OPTS=0`.\n",
      "2025-05-21 13:06:17.785064: E external/local_xla/xla/stream_executor/cuda/cuda_fft.cc:477] Unable to register cuFFT factory: Attempting to register factory for plugin cuFFT when one has already been registered\n",
      "WARNING: All log messages before absl::InitializeLog() is called are written to STDERR\n",
      "E0000 00:00:1747825577.809749    4509 cuda_dnn.cc:8310] Unable to register cuDNN factory: Attempting to register factory for plugin cuDNN when one has already been registered\n",
      "E0000 00:00:1747825577.816997    4509 cuda_blas.cc:1418] Unable to register cuBLAS factory: Attempting to register factory for plugin cuBLAS when one has already been registered\n",
      "2025-05-21 13:06:17.843100: I tensorflow/core/platform/cpu_feature_guard.cc:210] This TensorFlow binary is optimized to use available CPU instructions in performance-critical operations.\n",
      "To enable the following instructions: AVX2 AVX512F AVX512_VNNI FMA, in other operations, rebuild TensorFlow with the appropriate compiler flags.\n"
     ]
    }
   ],
   "source": [
    "import os\n",
    "import datetime\n",
    "import time\n",
    "from IPython.display import clear_output\n",
    "\n",
    "import torch\n",
    "import torch.nn as nn\n",
    "import torch.optim as optim\n",
    "from torch.optim.lr_scheduler import CosineAnnealingLR\n",
    "from torch_geometric.loader.dataloader import DataLoader\n",
    "import torch.nn.functional as F\n",
    "\n",
    "from sklearn.model_selection import train_test_split\n",
    "\n",
    "from ClusterDatasetTransformer import ClusterDataset\n",
    "from training import *\n",
    "from data_statistics import *\n",
    "\n",
    "from IPython.display import display\n",
    "\n",
    "from Transformer import Transformer\n",
    "from lang import Lang\n",
    "from LossFunction import Loss"
   ]
  },
  {
   "cell_type": "code",
   "execution_count": 2,
   "id": "bce07a55",
   "metadata": {},
   "outputs": [
    {
     "name": "stdout",
     "output_type": "stream",
     "text": [
      "Using device: cuda\n"
     ]
    }
   ],
   "source": [
    "# CUDA Setup\n",
    "device = torch.device('cuda' if torch.cuda.is_available() else \"cpu\")\n",
    "# device = torch.device(\"cpu\")\n",
    "\n",
    "print(f\"Using device: {device}\")"
   ]
  },
  {
   "cell_type": "code",
   "execution_count": 3,
   "id": "779bf30e",
   "metadata": {},
   "outputs": [],
   "source": [
    "input_length = 20\n",
    "max_seq_length = 20\n",
    "batch_size = 1\n",
    "max_nodes = 66"
   ]
  },
  {
   "cell_type": "code",
   "execution_count": 4,
   "id": "05055d40",
   "metadata": {},
   "outputs": [],
   "source": [
    "# Load the dataset\n",
    "hist_folder = \"/eos/user/c/czeh/histo/\"\n",
    "data_folder_training = \"/eos/user/c/czeh/graph_data/processed\"\n",
    "store_folder_training = \"/eos/user/c/czeh/graph_data_trans\"\n",
    "data_folder_test = \"/eos/user/c/czeh/graph_data_test/processed\"\n",
    "store_folder_test = \"/eos/user/c/czeh/graph_data_trans_test\"\n",
    "\n",
    "model_folder = \"/eos/user/c/czeh/model\"\n",
    "dataset_training = ClusterDataset(store_folder_training, data_folder_training, max_nodes=max_nodes, input_length=input_length)\n",
    "dataset_test = ClusterDataset(store_folder_test, data_folder_test, max_nodes=max_nodes, input_length=input_length)"
   ]
  },
  {
   "cell_type": "code",
   "execution_count": 5,
   "id": "4399f4db",
   "metadata": {},
   "outputs": [],
   "source": [
    "train_dl = DataLoader(dataset_training, shuffle=True, batch_size=batch_size)\n",
    "test_dl = DataLoader(dataset_test, shuffle=True, batch_size=batch_size)"
   ]
  },
  {
   "cell_type": "code",
   "execution_count": 6,
   "id": "d19d2607",
   "metadata": {},
   "outputs": [],
   "source": [
    "converter = Lang(max_nodes)\n",
    "vocab_size = converter.n_words"
   ]
  },
  {
   "cell_type": "code",
   "execution_count": 7,
   "id": "ce3aff2c",
   "metadata": {},
   "outputs": [
    {
     "name": "stderr",
     "output_type": "stream",
     "text": [
      "/eos/home-i04/c/czeh/SWAN_projects/Graph_Linking/ClusterDatasetTransformer.py:148: FutureWarning: You are using `torch.load` with `weights_only=False` (the current default value), which uses the default pickle module implicitly. It is possible to construct malicious pickle data which will execute arbitrary code during unpickling (See https://github.com/pytorch/pytorch/blob/main/SECURITY.md#untrusted-models for more details). In a future release, the default value for `weights_only` will be flipped to `True`. This limits the functions that could be executed during unpickling. Arbitrary objects will no longer be allowed to be loaded via this mode unless they are explicitly allowlisted by the user via `torch.serialization.add_safe_globals`. We recommend you start setting `weights_only=True` for any use case where you don't have full control of the loaded file. Please open an issue on GitHub for any issues related to this experimental feature.\n",
      "  data = torch.load(osp.join(self.processed_dir, f'data_{idx}.pt'))\n"
     ]
    }
   ],
   "source": [
    "epochs = 5\n",
    "d_model = 128\n",
    "num_heads = 2\n",
    "num_layers = 6\n",
    "d_ff = 512\n",
    "dropout = 0.1\n",
    "feature_num = dataset_test.get(10).x.shape[1]\n",
    "\n",
    "# Model, loss, and optimizer\n",
    "model = Transformer(dataset_test.get(10).num_nodes+1, vocab_size, d_model, num_heads, num_layers, d_ff, feature_num, max_nodes, max_seq_length, dropout).to(device)\n",
    "# criterion = nn.CrossEntropyLoss(ignore_index=0)\n",
    "# loss_obj = FocalLoss(alpha=0.45, gamma=2)\n",
    "criterion = Loss(converter)\n",
    "\n",
    "\n",
    "# Optionally introduce weight decay\n",
    "optimizer = optim.Adam(model.parameters(), lr=0.0001, betas=(0.9, 0.98), eps=1e-9)"
   ]
  },
  {
   "cell_type": "code",
   "execution_count": null,
   "id": "218ee1a0",
   "metadata": {
    "scrolled": true
   },
   "outputs": [
    {
     "data": {
      "image/png": "[encoded data removed]",
      "text/plain": [
       "<Figure size 432x216 with 1 Axes>"
      ]
     },
     "metadata": {},
     "output_type": "display_data"
    },
    {
     "name": "stderr",
     "output_type": "stream",
     "text": [
      "training:   0%|          | 0/15590 [00:00<?, ?it/s]/tmp/ipykernel_4509/1273920710.py:29: UserWarning: To copy construct from a tensor, it is recommended to use sourceTensor.clone().detach() or sourceTensor.clone().detach().requires_grad_(True), rather than torch.tensor(sourceTensor).\n",
      "  input_tensor[i, :] = torch.tensor(sample[i].input, dtype=torch.long)\n",
      "/tmp/ipykernel_4509/1273920710.py:30: UserWarning: To copy construct from a tensor, it is recommended to use sourceTensor.clone().detach() or sourceTensor.clone().detach().requires_grad_(True), rather than torch.tensor(sourceTensor).\n",
      "  target_tensor[i, :] = torch.tensor(sample[i].y_trans, dtype=torch.long)\n",
      "training:  96%|█████████▌| 14912/15590 [37:46<01:37,  6.92it/s] IOPub message rate exceeded.\n",
      "The Jupyter server will temporarily stop sending output\n",
      "to the client in order to avoid crashing it.\n",
      "To change this limit, set the config variable\n",
      "`--ServerApp.iopub_msg_rate_limit`.\n",
      "\n",
      "Current values:\n",
      "ServerApp.iopub_msg_rate_limit=1000.0 (msgs/sec)\n",
      "ServerApp.rate_limit_window=3.0 (secs)\n",
      "\n",
      "training: 100%|██████████| 15590/15590 [37:42<00:00,  6.89it/s]\n"
     ]
    },
    {
     "name": "stdout",
     "output_type": "stream",
     "text": [
      "Epoch 2, Loss: 11.052216\n"
     ]
    },
    {
     "name": "stderr",
     "output_type": "stream",
     "text": [
      "test: 100%|██████████| 4992/4992 [06:13<00:00, 13.38it/s]\n"
     ]
    },
    {
     "name": "stdout",
     "output_type": "stream",
     "text": [
      "Epoch 2, Val Loss: 11.052216\n"
     ]
    },
    {
     "name": "stderr",
     "output_type": "stream",
     "text": [
      "training:  59%|█████▊    | 9125/15590 [21:43<14:25,  7.47it/s]  "
     ]
    }
   ],
   "source": [
    "train_loss_hist = []\n",
    "val_loss_hist = []\n",
    "# Optionally introduce gradient clipping\n",
    "# torch.nn.utils.clip_grad_norm_(model.parameters(), max_norm=1.0)\n",
    "\n",
    "#Initialize Variables for EarlyStopping\n",
    "best_loss = float('inf')\n",
    "best_model_weights = None\n",
    "patience = 10\n",
    "\n",
    "fig_loss, ax_loss = plt.subplots(1, 1)\n",
    "fig_loss.set_figwidth(6)\n",
    "fig_loss.set_figheight(3)\n",
    "\n",
    "display_loss = display(1, display_id=True)\n",
    "\n",
    "optimizer.zero_grad()\n",
    "# Training loop\n",
    "for epoch in range(epochs):\n",
    "    model.train()\n",
    "    total_loss = 0\n",
    "    val_loss = 0\n",
    "    for sample in tqdm(train_dl, desc=\"training\"):\n",
    "        input_tensor = torch.zeros((batch_size, input_length), dtype=torch.long).to(device)\n",
    "        target_tensor = torch.zeros((batch_size, input_length), dtype=torch.long).to(device)\n",
    "        edge_tensor = torch.zeros((batch_size, sample.x.shape[0], feature_num), dtype=torch.float).to(device)\n",
    "\n",
    "        for i in range(batch_size):\n",
    "            input_tensor[i, :] = torch.tensor(sample[i].input, dtype=torch.long)\n",
    "            target_tensor[i, :] = torch.tensor(sample[i].y_trans, dtype=torch.long)\n",
    "            edge_tensor[i, :] = torch.unsqueeze(sample.x, dim=0).float()\n",
    "\n",
    "        output = model(edge_tensor, input_tensor)\n",
    "        loss = criterion(output.contiguous().view(-1, vocab_size), target_tensor.contiguous().view(-1), output.argmax(-1)[0, -1].item(), sample[i].input, sample[i].group)\n",
    "#         loss = criterion(output.contiguous().view(-1, vocab_size), target_tensor.contiguous().view(-1))\n",
    "        loss.backward()\n",
    "        optimizer.step()\n",
    "        total_loss += loss.item()\n",
    "        \n",
    "    loss = total_loss / len(test_dl)\n",
    "    print(f\"Epoch {epoch+1}, Loss: {loss:.6f}\")\n",
    "    train_loss_hist.append(loss)\n",
    "    \n",
    "    model.eval()\n",
    "    for sample in tqdm(test_dl, desc=\"test\"):\n",
    "        input_tensor = torch.zeros((1, input_length), dtype=torch.long).to(device)\n",
    "        target_tensor = torch.zeros((1, input_length), dtype=torch.long).to(device)\n",
    "        edge_tensor = torch.zeros((1, sample.x.shape[0], feature_num), dtype=torch.float).to(device)\n",
    "\n",
    "        input_tensor[0, :] = torch.tensor(sample[i].input, dtype=torch.long)\n",
    "        target_tensor[0, :] = torch.tensor(sample[i].y_trans, dtype=torch.long)\n",
    "        edge_tensor[0, :] = torch.unsqueeze(sample.x, dim=0).float()\n",
    "\n",
    "        predictions = model(edge_tensor, input_tensor)\n",
    "        predicted_index = predictions.argmax(-1)\n",
    "        predicted_number = predicted_index[0, -1].item()\n",
    "        \n",
    "        output = model(edge_tensor, input_tensor)\n",
    "        loss = criterion(output.contiguous().view(-1, vocab_size), target_tensor[0].contiguous().view(-1), output.argmax(-1)[0, -1].item(), sample[i].input, sample[i].group)\n",
    "#         loss = criterion(output.contiguous().view(-1, vocab_size), target_tensor.contiguous().view(-1))    \n",
    "        val_loss += loss.item()\n",
    "        \n",
    "    loss = total_loss / len(test_dl)\n",
    "    print(f\"Epoch {epoch+1}, Val Loss: {loss:.6f}\")\n",
    "    val_loss_hist.append(val_loss)\n",
    "    \n",
    "    plot_loss(train_loss_hist, val_loss_hist, ax=ax_loss)\n",
    "    display_loss.update(fig_loss)\n",
    "    time.sleep(1)\n",
    "        \n",
    "        \n",
    "        \n",
    "    # Early stopping\n",
    "#     if loss < best_loss:\n",
    "#         best_loss = val_loss\n",
    "#         best_model_weights = copy.deepcopy(model.state_dict())  # Deep copy here      \n",
    "#         patience = 10  # Reset patience counter\n",
    "#     else:\n",
    "#         patience -= 1\n",
    "#         if patience == 0:\n",
    "#             break\n",
    "            \n",
    "# Load the best model weights\n",
    "# model.load_state_dict(best_model_weights)"
   ]
  },
  {
   "cell_type": "code",
   "execution_count": null,
   "id": "611ff659",
   "metadata": {},
   "outputs": [],
   "source": [
    "correct = 0\n",
    "model.eval() \n",
    "torch.no_grad()\n",
    "i = 0\n",
    "for sample in tqdm(test_dl, desc=\"test\"):\n",
    "    input_tensor = torch.zeros((1, input_length), dtype=torch.long).to(device)\n",
    "    target_tensor = torch.zeros((1, input_length), dtype=torch.long).to(device)\n",
    "    edge_tensor = torch.zeros((1, sample.x.shape[0], feature_num), dtype=torch.float).to(device)\n",
    "\n",
    "    input_tensor[0, :] = torch.tensor(sample[i].input, dtype=torch.long)\n",
    "    target_tensor[0, :] = torch.tensor(sample[i].y_trans, dtype=torch.long)\n",
    "    edge_tensor[0, :] = torch.unsqueeze(sample.x, dim=0).float()\n",
    "            \n",
    "    predictions = model(edge_tensor, input_tensor)\n",
    "    predicted_index = predictions.argmax(-1)\n",
    "    predicted_number = predicted_index[0, -1].item()\n",
    "#     res = torch.roll(input_tensor, predicted_number, dims=1)\n",
    "\n",
    "#     step = 0\n",
    "#     while (predicted_number != 2 and step < 100):  # Disable gradient computation for inference\n",
    "#         input_tensor = torch.roll(input_tensor, -1, dims=1)\n",
    "#         input_tensor[0, -1] = predicted_number\n",
    "    \n",
    "#         predictions = model(edge_tensor, input_tensor)\n",
    "#         predicted_index = predictions.argmax(-1)  # Get the index of the max log-probability for the last position\n",
    "#         predicted_number = predicted_index[0, -1].item()  # Convert to Python number\n",
    "#         res.append(predicted_number)\n",
    "#         step += 1\n",
    "     \n",
    "#     input_tensor = torch.roll(input_tensor, -1, dims=1)\n",
    "#     input_tensor[0, -1] = predicted_number \n",
    "#     check = converter.arr2seq(input_tensor[0]) == converter.arr2seq(converter.subseq2arr(sample[0].y, input_length, 0, input_length))\n",
    "    \n",
    "    print(f\"Input Sequence: {sample[0].input}\")\n",
    "    print(f\"Predicted: {predicted_number}\")\n",
    "    print(f\"Real: {sample[i].y_trans[-1]}\")\n",
    "#     print(f\"Predicted Sequence: {converter.seq2y(np.array(res.cpu()))}\")\n",
    "#     print(f\"Correct: {check}\")\n",
    "    \n",
    "#     try:\n",
    "#         origG = torch_geometric.utils.to_networkx(sample, to_undirected=True)\n",
    "#         res_nodes, res_edges = sequenceToGraph(converter.arr2seq(input_tensor[0], ignoreTokens=True))\n",
    "#         newData = Data(x=sample.x, num_nodes=sample.num_nodes, edge_index=torch.from_numpy(res_edges))\n",
    "#         G = torch_geometric.utils.to_networkx(newData, to_undirected=True)\n",
    "\n",
    "#         fig, ax = plt.subplots(1, 2)\n",
    "#         nx.draw_circular(origG, with_labels=True, ax=ax[0])\n",
    "#         nx.draw_circular(G, with_labels=True, ax=ax[1])\n",
    "#     except:\n",
    "#         print(\"incorrect sequence\")\n",
    "    \n",
    "    \n",
    "#     correct += check\n",
    "\n",
    "# print(f\"Percentage of correct guesses: {correct / (len(test_dl))}\")"
   ]
  },
  {
   "cell_type": "code",
   "execution_count": null,
   "id": "090ba369",
   "metadata": {},
   "outputs": [],
   "source": [
    "# torch.save({'epoch': epoch+1,\n",
    "#             'model_state_dict': model.state_dict(),\n",
    "#             'optimizer_state_dict': optimizer.state_dict(),\n",
    "#             'training_loss': loss\n",
    "#             }, \"/eos/user/c/czeh/tranformer.pt\")\n"
   ]
  },
  {
   "cell_type": "code",
   "execution_count": null,
   "id": "d955787d",
   "metadata": {},
   "outputs": [],
   "source": []
  }
 ],
 "metadata": {
  "@webio": {
   "lastCommId": null,
   "lastKernelId": null
  },
  "kernelspec": {
   "display_name": "Python 3",
   "language": "python",
   "name": "python3"
  },
  "language_info": {
   "codemirror_mode": {
    "name": "ipython",
    "version": 3
   },
   "file_extension": ".py",
   "mimetype": "text/x-python",
   "name": "python",
   "nbconvert_exporter": "python",
   "pygments_lexer": "ipython3",
   "version": "3.11.9"
  }
 },
 "nbformat": 4,
 "nbformat_minor": 5
}
