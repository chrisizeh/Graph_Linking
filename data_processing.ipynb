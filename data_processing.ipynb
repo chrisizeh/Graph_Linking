{
 "cells": [
  {
   "cell_type": "code",
   "execution_count": 242,
   "id": "8d92c41a",
   "metadata": {},
   "outputs": [
    {
     "name": "stdout",
     "output_type": "stream",
     "text": [
      "The scikit-learn version is 1.5.1.\n",
      "Python version\n",
      "3.11.9 (main, Jun 24 2024, 14:32:54) [GCC 11.3.0]\n",
      "Version info.\n",
      "sys.version_info(major=3, minor=11, micro=9, releaselevel='final', serial=0)\n"
     ]
    }
   ],
   "source": [
    "import sys\n",
    "#print(sys.path)\n",
    "# sys.path.insert(0, '/eos/user/c/czeh/.local/lib/python3.9/site-packages')\n",
    "\n",
    "import sklearn\n",
    "print('The scikit-learn version is {}.'.format(sklearn.__version__))\n",
    "print(\"Python version\")\n",
    "print (sys.version)\n",
    "print(\"Version info.\")\n",
    "print (sys.version_info)"
   ]
  },
  {
   "cell_type": "code",
   "execution_count": 243,
   "id": "9421138b",
   "metadata": {},
   "outputs": [],
   "source": [
    "#from code import utils\n",
    "import glob\n",
    "from tqdm import tqdm\n",
    "\n",
    "import matplotlib.pyplot as plt\n",
    "import seaborn as sns\n",
    "\n",
    "\n",
    "import torch\n",
    "from torch import nn\n",
    "import torch.nn.functional as F\n",
    "from torch_geometric.data import Data\n",
    "from torch_geometric.loader import DataLoader\n",
    "import torch_geometric as pyg\n",
    "\n",
    "import awkward as ak\n",
    "import numpy as np\n",
    "import uproot as uproot\n",
    "\n",
    "\n",
    "%matplotlib inline"
   ]
  },
  {
   "cell_type": "code",
   "execution_count": 244,
   "id": "b6e802d1",
   "metadata": {},
   "outputs": [],
   "source": [
    "# use this to load the tree if some of file.keys() are duplicates ending with different numbers\n",
    "def load_branch_with_highest_cycle(file, branch_name):\n",
    "\n",
    "    # Get all keys in the file\n",
    "    all_keys = file.keys()\n",
    "\n",
    "    # Filter keys that match the specified branch name\n",
    "    matching_keys = [key for key in all_keys if key.startswith(branch_name)]\n",
    "\n",
    "    if not matching_keys:\n",
    "        raise ValueError(f\"No branch with name '{branch_name}' found in the file.\")\n",
    "\n",
    "    # Find the key with the highest cycle\n",
    "    highest_cycle_key = max(matching_keys, key=lambda key: int(key.split(\";\")[1]))\n",
    "\n",
    "    # Load the branch with the highest cycle\n",
    "    branch = file[highest_cycle_key]\n",
    "\n",
    "    return branch"
   ]
  },
  {
   "cell_type": "code",
   "execution_count": 245,
   "id": "651b0fea",
   "metadata": {},
   "outputs": [
    {
     "name": "stdout",
     "output_type": "stream",
     "text": [
      "['/eos/user/c/czeh/histo_5963955_0.root']\n",
      "['ticlDumper;1', 'ticlDumper/trackstersCLUE3DHigh;1', 'ticlDumper/trackstersTiclCandidate;1', 'ticlDumper/simtrackstersSC;1', 'ticlDumper/simtrackstersCP;1', 'ticlDumper/trackstersSuperclusteringDNN;1', 'ticlDumper/clusters;1', 'ticlDumper/candidates;1', 'ticlDumper/superclustering;1', 'ticlDumper/associations;1', 'ticlDumper/tracks;1', 'ticlDumper/simTICLCandidate;1']\n",
      "name                 | typename                 | interpretation                \n",
      "---------------------+--------------------------+-------------------------------\n",
      "event                | edm::EventID             | AsGroup(<TBranchElement 'ev...\n",
      "event/run_           | uint32_t                 | AsDtype('>u4')\n",
      "event/luminosityB... | uint32_t                 | AsDtype('>u4')\n",
      "event/event_         | uint64_t                 | AsDtype('>u8')\n",
      "NTracksters          | uint32_t                 | AsDtype('>u4')\n",
      "NClusters            | uint32_t                 | AsDtype('>u4')\n",
      "time                 | std::vector<float>       | AsJagged(AsDtype('>f4'), he...\n",
      "timeError            | std::vector<float>       | AsJagged(AsDtype('>f4'), he...\n",
      "regressed_energy     | std::vector<float>       | AsJagged(AsDtype('>f4'), he...\n",
      "raw_energy           | std::vector<float>       | AsJagged(AsDtype('>f4'), he...\n",
      "raw_em_energy        | std::vector<float>       | AsJagged(AsDtype('>f4'), he...\n",
      "raw_pt               | std::vector<float>       | AsJagged(AsDtype('>f4'), he...\n",
      "raw_em_pt            | std::vector<float>       | AsJagged(AsDtype('>f4'), he...\n",
      "barycenter_x         | std::vector<float>       | AsJagged(AsDtype('>f4'), he...\n",
      "barycenter_y         | std::vector<float>       | AsJagged(AsDtype('>f4'), he...\n",
      "barycenter_z         | std::vector<float>       | AsJagged(AsDtype('>f4'), he...\n",
      "barycenter_eta       | std::vector<float>       | AsJagged(AsDtype('>f4'), he...\n",
      "barycenter_phi       | std::vector<float>       | AsJagged(AsDtype('>f4'), he...\n",
      "EV1                  | std::vector<float>       | AsJagged(AsDtype('>f4'), he...\n",
      "EV2                  | std::vector<float>       | AsJagged(AsDtype('>f4'), he...\n",
      "EV3                  | std::vector<float>       | AsJagged(AsDtype('>f4'), he...\n",
      "eVector0_x           | std::vector<float>       | AsJagged(AsDtype('>f4'), he...\n",
      "eVector0_y           | std::vector<float>       | AsJagged(AsDtype('>f4'), he...\n",
      "eVector0_z           | std::vector<float>       | AsJagged(AsDtype('>f4'), he...\n",
      "sigmaPCA1            | std::vector<float>       | AsJagged(AsDtype('>f4'), he...\n",
      "sigmaPCA2            | std::vector<float>       | AsJagged(AsDtype('>f4'), he...\n",
      "sigmaPCA3            | std::vector<float>       | AsJagged(AsDtype('>f4'), he...\n",
      "id_probabilities     | std::vector<std::vect... | AsObjects(AsVector(True, As...\n",
      "vertices_indexes     | std::vector<std::vect... | AsObjects(AsVector(True, As...\n",
      "vertices_x           | std::vector<std::vect... | AsObjects(AsVector(True, As...\n",
      "vertices_y           | std::vector<std::vect... | AsObjects(AsVector(True, As...\n",
      "vertices_z           | std::vector<std::vect... | AsObjects(AsVector(True, As...\n",
      "vertices_time        | std::vector<std::vect... | AsObjects(AsVector(True, As...\n",
      "vertices_timeErr     | std::vector<std::vect... | AsObjects(AsVector(True, As...\n",
      "vertices_energy      | std::vector<std::vect... | AsObjects(AsVector(True, As...\n",
      "vertices_correcte... | std::vector<std::vect... | AsObjects(AsVector(True, As...\n",
      "vertices_correcte... | std::vector<std::vect... | AsObjects(AsVector(True, As...\n",
      "vertices_multipli... | std::vector<std::vect... | AsObjects(AsVector(True, As...\n",
      "None\n",
      "name                 | typename                 | interpretation                \n",
      "---------------------+--------------------------+-------------------------------\n",
      "event                | edm::EventID             | AsGroup(<TBranchElement 'ev...\n",
      "event/run_           | uint32_t                 | AsDtype('>u4')\n",
      "event/luminosityB... | uint32_t                 | AsDtype('>u4')\n",
      "event/event_         | uint64_t                 | AsDtype('>u8')\n",
      "seedID               | std::vector<uint32_t>    | AsJagged(AsDtype('>u4'), he...\n",
      "energy               | std::vector<float>       | AsJagged(AsDtype('>f4'), he...\n",
      "correctedEnergy      | std::vector<float>       | AsJagged(AsDtype('>f4'), he...\n",
      "correctedEnergyUn... | std::vector<float>       | AsJagged(AsDtype('>f4'), he...\n",
      "position_x           | std::vector<float>       | AsJagged(AsDtype('>f4'), he...\n",
      "position_y           | std::vector<float>       | AsJagged(AsDtype('>f4'), he...\n",
      "position_z           | std::vector<float>       | AsJagged(AsDtype('>f4'), he...\n",
      "position_eta         | std::vector<float>       | AsJagged(AsDtype('>f4'), he...\n",
      "position_phi         | std::vector<float>       | AsJagged(AsDtype('>f4'), he...\n",
      "cluster_layer_id     | std::vector<uint32_t>    | AsJagged(AsDtype('>u4'), he...\n",
      "cluster_type         | std::vector<int32_t>     | AsJagged(AsDtype('>i4'), he...\n",
      "cluster_time         | std::vector<float>       | AsJagged(AsDtype('>f4'), he...\n",
      "cluster_timeErr      | std::vector<float>       | AsJagged(AsDtype('>f4'), he...\n",
      "cluster_number_of... | std::vector<uint32_t>    | AsJagged(AsDtype('>u4'), he...\n",
      "None\n"
     ]
    }
   ],
   "source": [
    "# input_folder = \"/eos/cms/store/group/dpg_hgcal/comm_hgcal/wredjeb/TICLv5Performance/CloseByPionPU/histo/\"\n",
    "input_folder = \"/eos/user/c/czeh/\"\n",
    "files = glob.glob(f\"{input_folder}/*.root\")\n",
    "print(files)\n",
    "file = uproot.open(files[0])\n",
    "print(file.keys())\n",
    "\n",
    "alltracksters = load_branch_with_highest_cycle(file,'ticlDumper/trackstersCLUE3DHigh')\n",
    "allclusters = load_branch_with_highest_cycle(file,'ticlDumper/clusters')\n",
    "allsimtrackstersCP = load_branch_with_highest_cycle(file, 'ticlDumper/simtrackstersCP')\n",
    "allassociations = load_branch_with_highest_cycle(file, 'ticlDumper/associations')\n",
    "alltracks = load_branch_with_highest_cycle(file, 'ticlDumper/tracks')\n",
    "print(alltracksters.show())\n",
    "print(allclusters.show())"
   ]
  },
  {
   "cell_type": "code",
   "execution_count": 246,
   "id": "5ba1a482",
   "metadata": {},
   "outputs": [
    {
     "data": {
      "text/html": [
       "<pre>[{barycenter_x: [-52.1, 54.9, ..., 89.4], barycenter_y: [...], ...},\n",
       " {barycenter_x: [46.4, -50.6, ..., -14.4], barycenter_y: [...], ...},\n",
       " {barycenter_x: [-52.5, 5.97, ..., -32.4], barycenter_y: [...], ...},\n",
       " {barycenter_x: [59, -37.1, ..., 29.1, 38.5], barycenter_y: [...], ...},\n",
       " {barycenter_x: [66.1, -33.7, ..., 42.4, -51], barycenter_y: [...], ...},\n",
       " {barycenter_x: [33.1, 48.9, ..., 226, -26], barycenter_y: [...], ...},\n",
       " {barycenter_x: [33.1, 19.7, ..., -37.6], barycenter_y: [...], ...},\n",
       " {barycenter_x: [39.7, -37.6, ..., 65.3, 99], barycenter_y: [...], ...},\n",
       " {barycenter_x: [40.7, 33.6, ..., -43.9], barycenter_y: [...], ...},\n",
       " {barycenter_x: [47.5, -69.7, ..., 51.6, 204], barycenter_y: [...], ...}]\n",
       "-------------------------------------------------------------------------\n",
       "type: 10 * {\n",
       "    barycenter_x: var * float32,\n",
       "    barycenter_y: var * float32,\n",
       "    barycenter_z: var * float32,\n",
       "    barycenter_eta: var * float32,\n",
       "    barycenter_phi: var * float32,\n",
       "    eVector0_x: var * float32,\n",
       "    eVector0_y: var * float32,\n",
       "    eVector0_z: var * float32,\n",
       "    EV1: var * float32,\n",
       "    EV2: var * float32,\n",
       "    EV3: var * float32,\n",
       "    sigmaPCA1: var * float32,\n",
       "    sigmaPCA2: var * float32,\n",
       "    sigmaPCA3: var * float32,\n",
       "    raw_energy: var * float32,\n",
       "    raw_em_energy: var * float32,\n",
       "    time: var * float32\n",
       "}</pre>"
      ],
      "text/plain": [
       "<Array [{barycenter_x: [...], ...}, ..., {...}] type='10 * {barycenter_x: v...'>"
      ]
     },
     "execution_count": 246,
     "metadata": {},
     "output_type": "execute_result"
    }
   ],
   "source": [
    "node_feature_keys_before = [\"barycenter_x\", \"barycenter_y\", \"barycenter_z\", \"barycenter_eta\", \"barycenter_phi\", \"eVector0_x\", \"eVector0_y\", \"eVector0_z\",  \"EV1\", \"EV2\", \"EV3\", \"sigmaPCA1\", \"sigmaPCA2\", \"sigmaPCA3\", \"raw_energy\", \"raw_em_energy\", \"time\"]\n",
    "data = alltracksters.arrays(node_feature_keys_before)\n",
    "data"
   ]
  },
  {
   "cell_type": "code",
   "execution_count": 247,
   "id": "a373d201",
   "metadata": {},
   "outputs": [],
   "source": [
    "num_LCs = ak.count(alltracksters.arrays().vertices_indexes, axis=2)\n",
    "data[\"num_LCs\"] = num_LCs"
   ]
  },
  {
   "cell_type": "code",
   "execution_count": 248,
   "id": "74bd1b24",
   "metadata": {},
   "outputs": [],
   "source": [
    "data[\"z_min\"] = ak.min(alltracksters.arrays().vertices_z, axis=2)\n",
    "data[\"z_max\"] = ak.max(alltracksters.arrays().vertices_z, axis=2)"
   ]
  },
  {
   "cell_type": "code",
   "execution_count": null,
   "id": "7cf50a9b",
   "metadata": {
    "scrolled": true
   },
   "outputs": [
    {
     "name": "stderr",
     "output_type": "stream",
     "text": [
      " 20%|██        | 2/10 [00:09<00:37,  4.64s/it]"
     ]
    }
   ],
   "source": [
    "hits = ak.to_list(np.zeros_like(data.num_LCs))\n",
    "length = ak.to_list(np.zeros_like(data.num_LCs))\n",
    "density = ak.to_list(np.zeros_like(data.num_LCs))\n",
    "\n",
    "volume = 2*(3 - 1.5) * (2 * 47)\n",
    "data[\"LC_density\"] = data.num_LCs / volume\n",
    "\n",
    "cluster_number_of_hits = allclusters.arrays().cluster_number_of_hits\n",
    "cluster_layer_id = allclusters.arrays().cluster_layer_id\n",
    "vertices_indexes = alltracksters.arrays().vertices_indexes\n",
    "NTracksters = alltracksters.arrays().NTracksters\n",
    "\n",
    "for i in tqdm(range(len(alltracksters.arrays()))):\n",
    "    for j in range(alltracksters.arrays().NTracksters[i]):\n",
    "        hits[i][j] = ak.sum(cluster_number_of_hits[i][vertices_indexes[i][j]])\n",
    "        length[i][j] = (ak.max(cluster_layer_id[i][vertices_indexes[i][j]]) - ak.min(cluster_layer_id[i][vertices_indexes[i][j]])) / 47\n",
    "        density[i][j] = NTracksters[i] / volume\n",
    "        \n",
    "data[\"num_hits\"] = hits\n",
    "data[\"length\"] = length\n",
    "data[\"trackster_density\"] = density"
   ]
  },
  {
   "cell_type": "code",
   "execution_count": null,
   "id": "2a9c82f2",
   "metadata": {},
   "outputs": [],
   "source": [
    "data[\"photon_prob\"] = alltracksters.arrays()[\"id_probabilities\"][:, :, 0]\n",
    "data[\"electron_prob\"] = alltracksters.arrays()[\"id_probabilities\"][:, :, 1]\n",
    "data[\"muon_prob\"] = alltracksters.arrays()[\"id_probabilities\"][:, :, 2]\n",
    "data[\"neutral_pion_prob\"] = alltracksters.arrays()[\"id_probabilities\"][:, :, 3]\n",
    "data[\"charged_hadron_prob\"] = alltracksters.arrays()[\"id_probabilities\"][:, :, 4]\n",
    "data[\"neutral_hadron_prob\"] = alltracksters.arrays()[\"id_probabilities\"][:, :, 5]"
   ]
  },
  {
   "cell_type": "code",
   "execution_count": null,
   "id": "d2723aa3",
   "metadata": {},
   "outputs": [],
   "source": [
    "data[0]"
   ]
  },
  {
   "cell_type": "code",
   "execution_count": null,
   "id": "fdcaebad",
   "metadata": {},
   "outputs": [],
   "source": [
    "node_feature_keys = [\"barycenter_x\", \"barycenter_y\", \"barycenter_z\", \"barycenter_eta\", \"barycenter_phi\", \"eVector0_x\", \"eVector0_y\", \"eVector0_z\",  \"EV1\", \"EV2\", \"EV3\", \"sigmaPCA1\", \"sigmaPCA2\", \"sigmaPCA3\", \"num_LCs\", \"num_hits\", \"raw_energy\", \"raw_em_energy\", \"photon_prob\", \"electron_prob\", \"muon_prob\", \"neutral_pion_prob\", \"charged_hadron_prob\", \"neutral_hadron_prob\", \"z_min\", \"z_max\", \"LC_density\", \"trackster_density\", \"time\"]\n",
    "thesis_feature_names = [\"x\", \"y\", \"z\", \"eta\", \"phi\", \"eig_x\", \"eig_y\", \"eig_z\",  \"EV1\", \"EV2\", \"EV3\", \"sigmaPCA_x\", \"sigmaPCA_y\", \"sigmaPCA_z\", \"num_LC\", \"num_hits\", \"raw_energy\", \"raw_em_energy\", \"photon_prob\", \"electron_prob\", \"muon_prob\", \"neutral_pion_prob\", \"charged_hadron_prob\", \"neutral_hadron_prob\", \"z_min\", \"z_max\", \"LC_density\", \"trackster_density\", \"time\"]"
   ]
  },
  {
   "cell_type": "code",
   "execution_count": null,
   "id": "89aa875b",
   "metadata": {},
   "outputs": [],
   "source": [
    "track_vals = []\n",
    "\n",
    "scols = int(np.ceil(len(node_feature_keys)/2))\n",
    "srows = 2\n",
    "fig, axes = plt.subplots(scols, srows, figsize=(20, 35), constrained_layout=True)\n",
    "\n",
    "for i in tqdm(range(len(node_feature_keys))):\n",
    "    ax_col = int(i%scols)\n",
    "    ax_row = int(i/scols)\n",
    "    \n",
    "    values = ak.flatten(data[node_feature_keys[i]])\n",
    "    track_vals.append(values)\n",
    "    sns.histplot(values, ax=axes[ax_col, ax_row], kde=True, stat=\"density\", linewidth=0)\n",
    "    axes[ax_col, ax_row].set_title('Frequency distribution '+ thesis_feature_names[i], fontsize=18)\n",
    "    axes[ax_col, ax_row].set_xlabel(feature, fontsize=15)\n",
    "    axes[ax_col, ax_row].set_ylabel('Count', fontsize=15)\n",
    "    \n",
    "fig.tight_layout()\n",
    "plt.show()"
   ]
  },
  {
   "cell_type": "code",
   "execution_count": null,
   "id": "b3e7d635",
   "metadata": {},
   "outputs": [],
   "source": [
    "track_vals = np.array(track_vals)"
   ]
  },
  {
   "cell_type": "code",
   "execution_count": null,
   "id": "1cbbe312",
   "metadata": {},
   "outputs": [],
   "source": [
    "corr_matrix = np.corrcoef(track_vals)\n",
    "print(corr_matrix.shape)"
   ]
  },
  {
   "cell_type": "code",
   "execution_count": null,
   "id": "57c49397",
   "metadata": {},
   "outputs": [],
   "source": [
    "f = plt.figure(figsize=(12, 10))\n",
    "plt.matshow(corr_matrix, fignum=f.number, cmap='coolwarm', vmin=-1, vmax=1)\n",
    "\n",
    "plt.xticks(range(len(thesis_feature_names)), thesis_feature_names, fontsize=14, rotation=-45, ha=\"left\")\n",
    "plt.yticks(range(len(thesis_feature_names)), thesis_feature_names, fontsize=14)\n",
    "ax = plt.gca()\n",
    "ax.xaxis.set_ticks_position('bottom')\n",
    "cb = plt.colorbar(shrink=0.5)\n",
    "cb.ax.tick_params(labelsize=14)\n",
    "plt.title('Correlation Matrix of the Trackster Features', fontsize=16)"
   ]
  },
  {
   "cell_type": "code",
   "execution_count": null,
   "id": "9bfed7ad",
   "metadata": {},
   "outputs": [],
   "source": [
    "track_vals = np.zeros((len(data), len(node_feature_names)))\n",
    "\n",
    "for i in tqdm(range(len(data))):\n",
    "    track = data[i]\n",
    "    for j in range(len(node_feature_names)):\n",
    "        track_vals[i, j] = ak.mean(track[node_feature_names[j]])\n",
    "\n",
    "print(track_vals)"
   ]
  },
  {
   "cell_type": "code",
   "execution_count": null,
   "id": "62cbf78c",
   "metadata": {},
   "outputs": [],
   "source": [
    "scols = int(np.ceil(len(node_feature_names)/2))\n",
    "srows = 2\n",
    "fig, axes = plt.subplots(scols, srows, figsize=(20, 35), constrained_layout=True)\n",
    "\n",
    "for i in tqdm(range(len(node_feature_names))):\n",
    "    feature = node_feature_names[i]\n",
    "    ax_col = int(i%scols)\n",
    "    ax_row = int(i/scols)\n",
    "    \n",
    "    sns.histplot(track_vals[:, i], ax=axes[ax_col, ax_row], kde=True, stat=\"density\", linewidth=0)\n",
    "    axes[ax_col, ax_row].set_title('Frequency distribution '+ feature, fontsize=18)\n",
    "    axes[ax_col, ax_row].set_xlabel(feature, fontsize=15)\n",
    "    axes[ax_col, ax_row].set_ylabel('Count', fontsize=15)\n",
    "    \n",
    "fig.tight_layout()\n",
    "plt.show()"
   ]
  },
  {
   "cell_type": "code",
   "execution_count": null,
   "id": "129164f5",
   "metadata": {},
   "outputs": [],
   "source": [
    "corr_matrix = np.corrcoef(track_vals.T)\n",
    "print(corr_matrix.shape)"
   ]
  },
  {
   "cell_type": "code",
   "execution_count": null,
   "id": "d6f37faa",
   "metadata": {},
   "outputs": [],
   "source": [
    "f = plt.figure(figsize=(12, 10))\n",
    "plt.matshow(corr_matrix, fignum=f.number, cmap='coolwarm', vmin=-1, vmax=1)\n",
    "\n",
    "plt.xticks(range(len(node_feature_names)), node_feature_names, fontsize=14, rotation=-45, ha=\"left\")\n",
    "plt.yticks(range(len(node_feature_names)), node_feature_names, fontsize=14)\n",
    "ax = plt.gca()\n",
    "ax.xaxis.set_ticks_position('bottom')\n",
    "cb = plt.colorbar(shrink=0.5)\n",
    "cb.ax.tick_params(labelsize=14)\n",
    "plt.title('Correlation Matrix of the Trackster Features', fontsize=16)"
   ]
  }
 ],
 "metadata": {
  "kernelspec": {
   "display_name": "Python 3",
   "language": "python",
   "name": "python3"
  },
  "language_info": {
   "codemirror_mode": {
    "name": "ipython",
    "version": 3
   },
   "file_extension": ".py",
   "mimetype": "text/x-python",
   "name": "python",
   "nbconvert_exporter": "python",
   "pygments_lexer": "ipython3",
   "version": "3.11.9"
  }
 },
 "nbformat": 4,
 "nbformat_minor": 5
}
