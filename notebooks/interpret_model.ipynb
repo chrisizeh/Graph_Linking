{
 "cells": [
  {
   "cell_type": "code",
   "execution_count": null,
   "id": "93769c2c",
   "metadata": {},
   "outputs": [
    {
     "name": "stderr",
     "output_type": "stream",
     "text": [
      "2025-05-16 15:24:46.972119: I tensorflow/core/util/port.cc:153] oneDNN custom operations are on. You may see slightly different numerical results due to floating-point round-off errors from different computation orders. To turn them off, set the environment variable `TF_ENABLE_ONEDNN_OPTS=0`.\n",
      "2025-05-16 15:24:46.993254: E external/local_xla/xla/stream_executor/cuda/cuda_fft.cc:477] Unable to register cuFFT factory: Attempting to register factory for plugin cuFFT when one has already been registered\n",
      "WARNING: All log messages before absl::InitializeLog() is called are written to STDERR\n",
      "E0000 00:00:1747401887.018342    1059 cuda_dnn.cc:8310] Unable to register cuDNN factory: Attempting to register factory for plugin cuDNN when one has already been registered\n",
      "E0000 00:00:1747401887.025900    1059 cuda_blas.cc:1418] Unable to register cuBLAS factory: Attempting to register factory for plugin cuBLAS when one has already been registered\n",
      "2025-05-16 15:24:47.052773: I tensorflow/core/platform/cpu_feature_guard.cc:210] This TensorFlow binary is optimized to use available CPU instructions in performance-critical operations.\n",
      "To enable the following instructions: AVX2 AVX512F AVX512_VNNI FMA, in other operations, rebuild TensorFlow with the appropriate compiler flags.\n"
     ]
    }
   ],
   "source": [
    "from IPython.display import clear_output\n",
    "\n",
    "import torch\n",
    "from torch_geometric.loader.dataloader import DataLoader\n",
    "import torch.nn.functional as F\n",
    "\n",
    "from sklearn.model_selection import train_test_split\n",
    "\n",
    "from IPython.display import display\n",
    "\n",
    "from captum.attr import IntegratedGradients\n",
    "from captum.attr import LayerConductance\n",
    "from captum.attr import NeuronConductance\n",
    "\n",
    "import sys\n",
    "sys.path.append(\"..\")"
   ]
  },
  {
   "cell_type": "code",
   "execution_count": null,
   "id": "852a0563",
   "metadata": {},
   "outputs": [],
   "source": [
    "from tracksterLinker.datasets.GNNDataset import ClusterDataset\n",
    "from tracksterLinker.GNN.trainGNN import *\n",
    "from tracksterLinker.utils.dataStatistics import *\n",
    "from tracksterLinker.GNN.TrackLinkingNet import GNN_TrackLinkingNet, weight_init"
   ]
  },
  {
   "cell_type": "code",
   "execution_count": 2,
   "id": "2f01ac58",
   "metadata": {},
   "outputs": [
    {
     "name": "stdout",
     "output_type": "stream",
     "text": [
      "Using device: cuda\n"
     ]
    }
   ],
   "source": [
    "# CUDA Setup\n",
    "device = torch.device('cuda' if torch.cuda.is_available() else \"cpu\")\n",
    "cpu = torch.device(\"cpu\")\n",
    "\n",
    "print(f\"Using device: {device}\")"
   ]
  },
  {
   "cell_type": "code",
   "execution_count": 3,
   "id": "7c0a8e8b",
   "metadata": {
    "scrolled": true
   },
   "outputs": [],
   "source": [
    "# Load the dataset\n",
    "hist_folder = \"/eos/user/c/czeh/histo_new/\"\n",
    "data_folder_training = \"/eos/user/c/czeh/graph_data\"\n",
    "data_folder_test = \"/eos/user/c/czeh/graph_data_test\"\n",
    "\n",
    "model_folder = \"/eos/user/c/czeh/model\"\n",
    "dataset_training = ClusterDataset(data_folder_training, hist_folder)\n",
    "dataset_test = ClusterDataset(data_folder_test, hist_folder, test=True)"
   ]
  },
  {
   "cell_type": "code",
   "execution_count": 4,
   "id": "79d1beba",
   "metadata": {},
   "outputs": [
    {
     "name": "stdout",
     "output_type": "stream",
     "text": [
      "Number of events in training dataset: 299\n"
     ]
    },
    {
     "name": "stderr",
     "output_type": "stream",
     "text": [
      "/eos/home-i04/c/czeh/SWAN_projects/Graph_Linking/ClusterDataset.py:229: FutureWarning: You are using `torch.load` with `weights_only=False` (the current default value), which uses the default pickle module implicitly. It is possible to construct malicious pickle data which will execute arbitrary code during unpickling (See https://github.com/pytorch/pytorch/blob/main/SECURITY.md#untrusted-models for more details). In a future release, the default value for `weights_only` will be flipped to `True`. This limits the functions that could be executed during unpickling. Arbitrary objects will no longer be allowed to be loaded via this mode unless they are explicitly allowlisted by the user via `torch.serialization.add_safe_globals`. We recommend you start setting `weights_only=True` for any use case where you don't have full control of the loaded file. Please open an issue on GitHub for any issues related to this experimental feature.\n",
      "  data = torch.load(osp.join(self.processed_dir, f'data_{idx}.pt'))\n"
     ]
    },
    {
     "name": "stdout",
     "output_type": "stream",
     "text": [
      "Number of nodes: 8710\n",
      "Mean Number of nodes: 29.130434782608695\n",
      "Number of edges: 53836\n",
      "Mean Number of edges: 180.05351170568562\n",
      "Number of positive edges: 47377\n",
      "Mean Number of positive edges: 158.45150756835938\n",
      "Number of negative edges: 6459\n",
      "Mean Number of negative edges: 21.602006912231445\n"
     ]
    }
   ],
   "source": [
    "print_dataset_statistics(dataset_training)"
   ]
  },
  {
   "cell_type": "code",
   "execution_count": 5,
   "id": "6e09a9a3",
   "metadata": {},
   "outputs": [
    {
     "name": "stdout",
     "output_type": "stream",
     "text": [
      "Number of events in training dataset: 100\n",
      "Number of nodes: 2891\n",
      "Mean Number of nodes: 28.91\n",
      "Number of edges: 17805\n",
      "Mean Number of edges: 178.05\n",
      "Number of positive edges: 15627\n",
      "Mean Number of positive edges: 156.27000427246094\n",
      "Number of negative edges: 2178\n",
      "Mean Number of negative edges: 21.780000686645508\n"
     ]
    }
   ],
   "source": [
    "print_dataset_statistics(dataset_test)"
   ]
  },
  {
   "cell_type": "code",
   "execution_count": 6,
   "id": "efe87ea9",
   "metadata": {},
   "outputs": [],
   "source": [
    "train_dl = DataLoader(dataset_training, shuffle=True)\n",
    "test_dl = DataLoader(dataset_test, shuffle=True)"
   ]
  },
  {
   "cell_type": "code",
   "execution_count": 39,
   "id": "a9114849",
   "metadata": {},
   "outputs": [
    {
     "name": "stderr",
     "output_type": "stream",
     "text": [
      "/eos/home-i04/c/czeh/SWAN_projects/Graph_Linking/ClusterDataset.py:229: FutureWarning: You are using `torch.load` with `weights_only=False` (the current default value), which uses the default pickle module implicitly. It is possible to construct malicious pickle data which will execute arbitrary code during unpickling (See https://github.com/pytorch/pytorch/blob/main/SECURITY.md#untrusted-models for more details). In a future release, the default value for `weights_only` will be flipped to `True`. This limits the functions that could be executed during unpickling. Arbitrary objects will no longer be allowed to be loaded via this mode unless they are explicitly allowlisted by the user via `torch.serialization.add_safe_globals`. We recommend you start setting `weights_only=True` for any use case where you don't have full control of the loaded file. Please open an issue on GitHub for any issues related to this experimental feature.\n",
      "  data = torch.load(osp.join(self.processed_dir, f'data_{idx}.pt'))\n"
     ]
    },
    {
     "data": {
      "text/plain": [
       "GNN_TrackLinkingNet(\n",
       "  (layer): LeakyReLU(negative_slope=0.01)\n",
       "  (inputnetwork): Sequential(\n",
       "    (0): Linear(in_features=29, out_features=16, bias=True)\n",
       "    (1): LeakyReLU(negative_slope=0.01)\n",
       "    (2): Dropout(p=0.3, inplace=False)\n",
       "    (3): Linear(in_features=16, out_features=16, bias=True)\n",
       "    (4): LeakyReLU(negative_slope=0.01)\n",
       "  )\n",
       "  (edge_inputnetwork): Sequential(\n",
       "    (0): Linear(in_features=7, out_features=16, bias=True)\n",
       "    (1): LeakyReLU(negative_slope=0.01)\n",
       "    (2): Dropout(p=0.3, inplace=False)\n",
       "    (3): Linear(in_features=16, out_features=16, bias=True)\n",
       "    (4): LeakyReLU(negative_slope=0.01)\n",
       "  )\n",
       "  (attention_direct): Sequential(\n",
       "    (0): Linear(in_features=16, out_features=16, bias=True)\n",
       "    (1): LeakyReLU(negative_slope=0.01)\n",
       "    (2): Dropout(p=0.3, inplace=False)\n",
       "    (3): Linear(in_features=16, out_features=1, bias=True)\n",
       "    (4): Sigmoid()\n",
       "  )\n",
       "  (attention_reverse): Sequential(\n",
       "    (0): Linear(in_features=16, out_features=16, bias=True)\n",
       "    (1): LeakyReLU(negative_slope=0.01)\n",
       "    (2): Dropout(p=0.3, inplace=False)\n",
       "    (3): Linear(in_features=16, out_features=1, bias=True)\n",
       "    (4): Sigmoid()\n",
       "  )\n",
       "  (graphconvs): ModuleList(\n",
       "    (0-1): 2 x EdgeConvBlock(\n",
       "      (drop): Dropout(p=0.3, inplace=False)\n",
       "      (convs): ModuleList(\n",
       "        (0): Linear(in_features=32, out_features=32, bias=True)\n",
       "        (1): Linear(in_features=32, out_features=16, bias=True)\n",
       "      )\n",
       "      (acts): ModuleList(\n",
       "        (0-1): 2 x ReLU()\n",
       "      )\n",
       "      (sc_act): ReLU()\n",
       "    )\n",
       "  )\n",
       "  (edgenetwork): Sequential(\n",
       "    (0): Linear(in_features=55, out_features=16, bias=True)\n",
       "    (1): LeakyReLU(negative_slope=0.01)\n",
       "    (2): Dropout(p=0.3, inplace=False)\n",
       "    (3): Linear(in_features=16, out_features=1, bias=True)\n",
       "    (4): Sigmoid()\n",
       "  )\n",
       ")"
      ]
     },
     "execution_count": 39,
     "metadata": {},
     "output_type": "execute_result"
    }
   ],
   "source": [
    "model = GNN_TrackLinkingNet(input_dim = dataset_training.get(0).x.shape[1], \n",
    "                                edge_feature_dim=dataset_training.get(0).edges_features.shape[1],\n",
    "                                edge_hidden_dim=16, hidden_dim=16, weighted_aggr=True,\n",
    "                               dropout=0.3)\n",
    "model = model.to(device)\n",
    "optimizer = torch.optim.Adam(model.parameters(), lr=0.001)\n",
    "model.apply(weight_init)\n",
    "\n",
    "weights = torch.load(model_folder + \"/epoch_200_date_2025-05-15_loss_25.7733.pt\", weights_only=True)\n",
    "model.load_state_dict(weights[\"model_state_dict\"])\n",
    "optimizer.load_state_dict(weights[\"optimizer_state_dict\"])\n",
    "\n",
    "model.eval()"
   ]
  },
  {
   "cell_type": "code",
   "execution_count": 114,
   "id": "c602804b",
   "metadata": {},
   "outputs": [],
   "source": [
    "# Helper method to print importances and visualize distribution\n",
    "def visualize_importances(feature_names, importances, title=\"Average Feature Importances\", plot=True, axis_title=\"Features\"):\n",
    "    print(title)\n",
    "    for i in range(len(feature_names)):\n",
    "        print(feature_names[i], \": \", '%.3f'%(importances[i]))\n",
    "    x_pos = (np.arange(len(feature_names)))\n",
    "    if plot:\n",
    "        plt.figure(figsize=(12,6))\n",
    "        plt.bar(x_pos, importances, align='center')\n",
    "        plt.xticks(x_pos, feature_names, wrap=True, rotation=90)\n",
    "        plt.xlabel(axis_title)\n",
    "        plt.title(title)"
   ]
  },
  {
   "cell_type": "markdown",
   "id": "5c9a4b79",
   "metadata": {},
   "source": [
    "## Run Feature Importance on Feature input network"
   ]
  },
  {
   "cell_type": "code",
   "execution_count": 166,
   "id": "31648324",
   "metadata": {
    "scrolled": false
   },
   "outputs": [
    {
     "name": "stderr",
     "output_type": "stream",
     "text": [
      "/eos/home-i04/c/czeh/SWAN_projects/Graph_Linking/ClusterDataset.py:229: FutureWarning: You are using `torch.load` with `weights_only=False` (the current default value), which uses the default pickle module implicitly. It is possible to construct malicious pickle data which will execute arbitrary code during unpickling (See https://github.com/pytorch/pytorch/blob/main/SECURITY.md#untrusted-models for more details). In a future release, the default value for `weights_only` will be flipped to `True`. This limits the functions that could be executed during unpickling. Arbitrary objects will no longer be allowed to be loaded via this mode unless they are explicitly allowlisted by the user via `torch.serialization.add_safe_globals`. We recommend you start setting `weights_only=True` for any use case where you don't have full control of the loaded file. Please open an issue on GitHub for any issues related to this experimental feature.\n",
      "  data = torch.load(osp.join(self.processed_dir, f'data_{idx}.pt'))\n"
     ]
    }
   ],
   "source": [
    "xs = []\n",
    "for sample in train_dl:\n",
    "    x = sample.x\n",
    "    x = torch.nan_to_num(x, nan=0.0)\n",
    "    \n",
    "    X_norm = torch.zeros_like(x)\n",
    "    epsilon = 10e-5 * torch.ones(x.shape)\n",
    "    std = x.std(dim=0, unbiased=False) + epsilon\n",
    "    X_norm = (x - x.mean(dim=0)) / std\n",
    "    xs.extend(X_norm)\n",
    "    \n",
    "#     if(len(xs) > 10000):\n",
    "#         break"
   ]
  },
  {
   "cell_type": "code",
   "execution_count": 167,
   "id": "0fcac58a",
   "metadata": {},
   "outputs": [
    {
     "data": {
      "text/plain": [
       "tensor([[ 9.6369e-01, -1.3269e+00, -1.6986e+00,  ...,  2.3979e+00,\n",
       "          0.0000e+00,  1.1527e+00],\n",
       "        [ 8.7728e-01, -1.6305e+00, -1.3472e+00,  ...,  5.3439e-01,\n",
       "          0.0000e+00, -8.4508e-01],\n",
       "        [ 1.4145e+00, -1.2838e+00, -9.3102e-01,  ..., -5.6180e-01,\n",
       "          0.0000e+00, -8.4508e-01],\n",
       "        ...,\n",
       "        [ 1.9269e-01, -5.3311e-01,  1.1896e+00,  ..., -5.2966e-01,\n",
       "          2.7756e-13, -6.4324e-01],\n",
       "        [-1.6130e+00,  6.6839e-02,  1.6696e+00,  ...,  1.0439e-01,\n",
       "          2.7756e-13,  1.5826e+00],\n",
       "        [-1.5051e+00, -1.3969e+00,  1.7727e+00,  ..., -6.8817e-01,\n",
       "          2.7756e-13, -6.4324e-01]], device='cuda:0', requires_grad=True)"
      ]
     },
     "execution_count": 167,
     "metadata": {},
     "output_type": "execute_result"
    }
   ],
   "source": [
    "test_tensor = torch.tensor(np.array(xs)).float().to(device)\n",
    "test_tensor.shape\n",
    "test_tensor.requires_grad_()"
   ]
  },
  {
   "cell_type": "code",
   "execution_count": 168,
   "id": "3236ae41",
   "metadata": {},
   "outputs": [],
   "source": [
    "ig = IntegratedGradients(model.inputnetwork)"
   ]
  },
  {
   "cell_type": "code",
   "execution_count": 169,
   "id": "ce400b98",
   "metadata": {},
   "outputs": [
    {
     "data": {
      "text/plain": [
       "torch.Size([8710, 16])"
      ]
     },
     "execution_count": 169,
     "metadata": {},
     "output_type": "execute_result"
    }
   ],
   "source": [
    "model.inputnetwork(test_tensor).shape"
   ]
  },
  {
   "cell_type": "code",
   "execution_count": 170,
   "id": "3c8005c8",
   "metadata": {},
   "outputs": [
    {
     "data": {
      "text/plain": [
       "(139360, 29)"
      ]
     },
     "execution_count": 170,
     "metadata": {},
     "output_type": "execute_result"
    }
   ],
   "source": [
    "attrs = []\n",
    "\n",
    "attrs = ig.attribute(test_tensor, target=0, return_convergence_delta=False).to(cpu).detach().numpy()\n",
    "\n",
    "for i in range(15):\n",
    "    attr = ig.attribute(test_tensor, target=1, return_convergence_delta=False).to(cpu).detach().numpy()\n",
    "    attrs = np.append(attrs, attr, axis=0)\n",
    "\n",
    "attrs.shape"
   ]
  },
  {
   "cell_type": "code",
   "execution_count": 171,
   "id": "66985ff5",
   "metadata": {},
   "outputs": [],
   "source": [
    "feature_vals = np.mean(attr, axis=0)"
   ]
  },
  {
   "cell_type": "code",
   "execution_count": 175,
   "id": "f80d18ef",
   "metadata": {},
   "outputs": [
    {
     "data": {
      "text/plain": [
       "array([ 1.0263405e-03,  4.2866272e-05, -1.4652627e-02,  2.0264441e-03,\n",
       "        1.2734534e-01, -7.6283538e-04, -1.5919084e-03,  4.8178756e-03,\n",
       "       -7.8993573e-05, -4.8923510e-04,  2.5036766e-03,  6.8935723e-04,\n",
       "        1.0068733e-04, -9.0915640e-04, -1.0721077e-02,  1.4121169e-02,\n",
       "       -5.4397476e-03,  5.9269955e-03, -2.6460278e-03, -9.6775686e-08,\n",
       "        3.9979042e-08, -6.0223158e-08,  3.2041583e-03, -5.9090539e-08,\n",
       "       -9.5529938e-03, -8.0484245e-03, -9.5819477e-03,  1.6745947e-16,\n",
       "       -1.3942017e-02], dtype=float32)"
      ]
     },
     "execution_count": 175,
     "metadata": {},
     "output_type": "execute_result"
    }
   ],
   "source": [
    "feature_vals"
   ]
  },
  {
   "cell_type": "code",
   "execution_count": 172,
   "id": "d1049ec6",
   "metadata": {
    "scrolled": false
   },
   "outputs": [
    {
     "name": "stdout",
     "output_type": "stream",
     "text": [
      "Average Feature Importances\n",
      "barycenter_x :  0.001\n",
      "barycenter_y :  0.000\n",
      "barycenter_z :  -0.015\n",
      "barycenter_eta :  0.002\n",
      "barycenter_phi :  0.127\n",
      "eVector0_x :  -0.001\n",
      "eVector0_y :  -0.002\n",
      "eVector0_z :  0.005\n",
      "EV1 :  -0.000\n",
      "EV2 :  -0.000\n",
      "EV3 :  0.003\n",
      "sigmaPCA1 :  0.001\n",
      "sigmaPCA2 :  0.000\n",
      "sigmaPCA3 :  -0.001\n",
      "num_LCs :  -0.011\n",
      "num_hits :  0.014\n",
      "raw_energy :  -0.005\n",
      "raw_em_energy :  0.006\n",
      "photon_prob :  -0.003\n",
      "electron_prob :  -0.000\n",
      "muon_prob :  0.000\n",
      "neutral_pion_prob :  -0.000\n",
      "charged_hadron_prob :  0.003\n",
      "neutral_hadron_prob :  -0.000\n",
      "z_min :  -0.010\n",
      "z_max :  -0.008\n",
      "LC_density :  -0.010\n",
      "trackster_density :  0.000\n",
      "time :  -0.014\n"
     ]
    },
    {
     "data": {
      "image/png": "[encoded data removed]",
      "text/plain": [
       "<Figure size 864x432 with 1 Axes>"
      ]
     },
     "metadata": {
      "needs_background": "light"
     },
     "output_type": "display_data"
    }
   ],
   "source": [
    "visualize_importances(dataset_training.node_feature_keys, feature_vals)"
   ]
  },
  {
   "cell_type": "code",
   "execution_count": 177,
   "id": "8ae453fb",
   "metadata": {},
   "outputs": [
    {
     "data": {
      "text/plain": [
       "array([ 0,  2,  3,  4,  6,  7, 10, 14, 15, 16, 17, 18, 22, 24, 25, 26, 28])"
      ]
     },
     "execution_count": 177,
     "metadata": {},
     "output_type": "execute_result"
    }
   ],
   "source": [
    "np.where(np.abs(feature_vals) > 0.001)[0]"
   ]
  },
  {
   "cell_type": "code",
   "execution_count": 174,
   "id": "26b86121",
   "metadata": {},
   "outputs": [
    {
     "data": {
      "text/plain": [
       "array(['barycenter_x', 'barycenter_y', 'barycenter_eta', 'barycenter_phi',\n",
       "       'eVector0_z', 'EV3', 'sigmaPCA1', 'sigmaPCA2', 'num_hits',\n",
       "       'raw_em_energy', 'muon_prob', 'charged_hadron_prob',\n",
       "       'trackster_density'], dtype='<U19')"
      ]
     },
     "execution_count": 174,
     "metadata": {},
     "output_type": "execute_result"
    }
   ],
   "source": [
    "np.array(dataset_training.node_feature_keys)[np.where(feature_vals > 0)[0]]"
   ]
  },
  {
   "cell_type": "code",
   "execution_count": 104,
   "id": "d3757b11",
   "metadata": {},
   "outputs": [],
   "source": [
    "cond = LayerConductance(model.inputnetwork, model.inputnetwork[1])\n",
    "cond_vals = cond.attribute(test_tensor,target=1)\n",
    "cond_vals = cond_vals.to(cpu).detach().numpy()"
   ]
  },
  {
   "cell_type": "code",
   "execution_count": 105,
   "id": "f87a9267",
   "metadata": {},
   "outputs": [
    {
     "name": "stdout",
     "output_type": "stream",
     "text": [
      "Average Neuron Importances\n",
      "0 :  0.138\n",
      "1 :  -0.009\n",
      "2 :  -0.031\n",
      "3 :  0.013\n",
      "4 :  -0.012\n",
      "5 :  -0.026\n",
      "6 :  0.003\n",
      "7 :  0.002\n",
      "8 :  0.003\n",
      "9 :  -0.026\n",
      "10 :  -0.010\n",
      "11 :  0.006\n",
      "12 :  0.000\n",
      "13 :  -0.024\n",
      "14 :  0.001\n",
      "15 :  0.049\n"
     ]
    },
    {
     "data": {
      "image/png": "[encoded data removed]",
      "text/plain": [
       "<Figure size 864x432 with 1 Axes>"
      ]
     },
     "metadata": {
      "needs_background": "light"
     },
     "output_type": "display_data"
    }
   ],
   "source": [
    "visualize_importances(range(16),np.mean(cond_vals, axis=0),title=\"Average Neuron Importances\", axis_title=\"Neurons\")"
   ]
  },
  {
   "cell_type": "code",
   "execution_count": 92,
   "id": "56fecf38",
   "metadata": {},
   "outputs": [
    {
     "data": {
      "image/png": "[encoded data removed]",
      "text/plain": [
       "<Figure size 432x288 with 1 Axes>"
      ]
     },
     "metadata": {
      "needs_background": "light"
     },
     "output_type": "display_data"
    },
    {
     "data": {
      "image/png": "[encoded data removed]",
      "text/plain": [
       "<Figure size 432x288 with 1 Axes>"
      ]
     },
     "metadata": {
      "needs_background": "light"
     },
     "output_type": "display_data"
    }
   ],
   "source": [
    "plt.hist(cond_vals[:,0], 100);\n",
    "plt.title(\"Neuron 0 Distribution\")\n",
    "plt.figure()\n",
    "plt.hist(cond_vals[:,15], 100);\n",
    "plt.title(\"Neuron 10 Distribution\");"
   ]
  },
  {
   "cell_type": "code",
   "execution_count": 89,
   "id": "4028816a",
   "metadata": {},
   "outputs": [],
   "source": [
    "neuron_cond = NeuronConductance(model.inputnetwork, model.inputnetwork[1])"
   ]
  },
  {
   "cell_type": "code",
   "execution_count": 90,
   "id": "32d83aad",
   "metadata": {},
   "outputs": [],
   "source": [
    "neuron_cond_vals = neuron_cond.attribute(test_tensor, neuron_selector=0, target=1)"
   ]
  },
  {
   "cell_type": "code",
   "execution_count": 91,
   "id": "e46c6656",
   "metadata": {},
   "outputs": [
    {
     "name": "stdout",
     "output_type": "stream",
     "text": [
      "Average Feature Importances for Neuron\n",
      "barycenter_x :  0.000\n",
      "barycenter_y :  0.000\n",
      "barycenter_z :  0.004\n",
      "barycenter_eta :  -0.000\n",
      "barycenter_phi :  0.109\n",
      "eVector0_x :  -0.000\n",
      "eVector0_y :  0.000\n",
      "eVector0_z :  0.004\n",
      "EV1 :  0.002\n",
      "EV2 :  0.000\n",
      "EV3 :  0.000\n",
      "sigmaPCA1 :  -0.000\n",
      "sigmaPCA2 :  -0.000\n",
      "sigmaPCA3 :  0.000\n",
      "num_LCs :  0.000\n",
      "num_hits :  0.011\n",
      "raw_energy :  -0.009\n",
      "raw_em_energy :  -0.003\n",
      "photon_prob :  0.002\n",
      "electron_prob :  -0.000\n",
      "muon_prob :  -0.000\n",
      "neutral_pion_prob :  -0.000\n",
      "charged_hadron_prob :  -0.000\n",
      "neutral_hadron_prob :  -0.000\n",
      "z_min :  0.002\n",
      "z_max :  -0.004\n",
      "LC_density :  0.006\n",
      "trackster_density :  -0.000\n",
      "time :  0.011\n"
     ]
    },
    {
     "data": {
      "image/png": "[encoded data removed]",
      "text/plain": [
       "<Figure size 864x432 with 1 Axes>"
      ]
     },
     "metadata": {
      "needs_background": "light"
     },
     "output_type": "display_data"
    }
   ],
   "source": [
    "visualize_importances(dataset_training.node_feature_keys, neuron_cond_vals.to(cpu).mean(dim=0).detach().numpy(), title=\"Average Feature Importances for Neuron\")"
   ]
  },
  {
   "cell_type": "markdown",
   "id": "79485bc0",
   "metadata": {},
   "source": [
    "## Try feature importance on full network (Not working)"
   ]
  },
  {
   "cell_type": "code",
   "execution_count": null,
   "id": "36d2bf9b",
   "metadata": {},
   "outputs": [],
   "source": [
    "sample = next(iter(train_dl))[0]\n",
    "sample = sample.to(device)\n",
    "data = prepare_network_input_data(sample.x, sample.edge_index, edge_features=sample.edges_features)\n",
    "\n",
    "for d in data:\n",
    "    d.requires_grad_()"
   ]
  },
  {
   "cell_type": "code",
   "execution_count": null,
   "id": "c62fefbb",
   "metadata": {},
   "outputs": [],
   "source": [
    "model(*data, device=device)"
   ]
  },
  {
   "cell_type": "code",
   "execution_count": null,
   "id": "23b16992",
   "metadata": {},
   "outputs": [],
   "source": [
    "ig = IntegratedGradients((lambda x, edge_index, edge_features: model(x, edge_index, edge_features, device=device)))\n",
    "# ig = IntegratedGradients(model)"
   ]
  },
  {
   "cell_type": "code",
   "execution_count": null,
   "id": "3f9d725a",
   "metadata": {
    "scrolled": false
   },
   "outputs": [],
   "source": [
    "attr, delta = ig.attribute(data, target=1, return_convergence_delta=True)\n",
    "attr = attr.to(cpu).detach().numpy()"
   ]
  },
  {
   "cell_type": "code",
   "execution_count": null,
   "id": "6e553031",
   "metadata": {},
   "outputs": [],
   "source": []
  },
  {
   "cell_type": "code",
   "execution_count": null,
   "id": "197eeb96",
   "metadata": {},
   "outputs": [],
   "source": []
  },
  {
   "cell_type": "code",
   "execution_count": null,
   "id": "c53a4a6a",
   "metadata": {},
   "outputs": [],
   "source": [
    "\n"
   ]
  },
  {
   "cell_type": "code",
   "execution_count": null,
   "id": "2e5c281a",
   "metadata": {},
   "outputs": [],
   "source": []
  }
 ],
 "metadata": {
  "@webio": {
   "lastCommId": null,
   "lastKernelId": null
  },
  "kernelspec": {
   "display_name": "Python 3",
   "language": "python",
   "name": "python3"
  },
  "language_info": {
   "codemirror_mode": {
    "name": "ipython",
    "version": 3
   },
   "file_extension": ".py",
   "mimetype": "text/x-python",
   "name": "python",
   "nbconvert_exporter": "python",
   "pygments_lexer": "ipython3",
   "version": "3.11.9"
  }
 },
 "nbformat": 4,
 "nbformat_minor": 5
}
