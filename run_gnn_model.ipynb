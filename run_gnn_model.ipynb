{
 "cells": [
  {
   "cell_type": "code",
   "execution_count": 1,
   "id": "93769c2c",
   "metadata": {},
   "outputs": [],
   "source": [
    "import torch\n",
    "\n",
    "from ClusterDataset import ClusterDataset\n",
    "\n",
    "from sklearn.model_selection import train_test_split"
   ]
  },
  {
   "cell_type": "code",
   "execution_count": 5,
   "id": "7c0a8e8b",
   "metadata": {},
   "outputs": [],
   "source": [
    "# Load the dataset\n",
    "input_folder = \"/eos/user/c/czeh/histo/\"\n",
    "output_folder = \"/eos/user/c/czeh/graph_data\"\n",
    "dataset = ClusterDataset(output_folder, input_folder)\n",
    "\n",
    "idx = list(range(dataset.len()))"
   ]
  },
  {
   "cell_type": "code",
   "execution_count": 8,
   "id": "4763d6f8",
   "metadata": {},
   "outputs": [
    {
     "data": {
      "text/plain": [
       "['/eos/user/c/czeh/graph_data/processed/data_0.pt',\n",
       " '/eos/user/c/czeh/graph_data/processed/data_1.pt',\n",
       " '/eos/user/c/czeh/graph_data/processed/data_2.pt',\n",
       " '/eos/user/c/czeh/graph_data/processed/data_3.pt',\n",
       " '/eos/user/c/czeh/graph_data/processed/data_4.pt',\n",
       " '/eos/user/c/czeh/graph_data/processed/data_5.pt',\n",
       " '/eos/user/c/czeh/graph_data/processed/data_6.pt',\n",
       " '/eos/user/c/czeh/graph_data/processed/data_7.pt',\n",
       " '/eos/user/c/czeh/graph_data/processed/data_8.pt',\n",
       " '/eos/user/c/czeh/graph_data/processed/data_9.pt',\n",
       " '/eos/user/c/czeh/graph_data/processed/pre_filter.pt',\n",
       " '/eos/user/c/czeh/graph_data/processed/pre_transform.pt']"
      ]
     },
     "execution_count": 8,
     "metadata": {},
     "output_type": "execute_result"
    }
   ],
   "source": [
    "dataset.processed_file_names"
   ]
  },
  {
   "cell_type": "code",
   "execution_count": null,
   "id": "36481f39",
   "metadata": {},
   "outputs": [],
   "source": []
  }
 ],
 "metadata": {
  "@webio": {
   "lastCommId": null,
   "lastKernelId": null
  },
  "kernelspec": {
   "display_name": "Python 3",
   "language": "python",
   "name": "python3"
  },
  "language_info": {
   "codemirror_mode": {
    "name": "ipython",
    "version": 3
   },
   "file_extension": ".py",
   "mimetype": "text/x-python",
   "name": "python",
   "nbconvert_exporter": "python",
   "pygments_lexer": "ipython3",
   "version": "3.11.9"
  }
 },
 "nbformat": 4,
 "nbformat_minor": 5
}
