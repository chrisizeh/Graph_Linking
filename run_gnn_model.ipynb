{
 "cells": [
  {
   "cell_type": "code",
   "execution_count": 1,
   "id": "93769c2c",
   "metadata": {},
   "outputs": [
    {
     "name": "stderr",
     "output_type": "stream",
     "text": [
      "2025-05-15 17:05:00.819439: E external/local_xla/xla/stream_executor/cuda/cuda_fft.cc:477] Unable to register cuFFT factory: Attempting to register factory for plugin cuFFT when one has already been registered\n",
      "WARNING: All log messages before absl::InitializeLog() is called are written to STDERR\n",
      "E0000 00:00:1747321500.837117     439 cuda_dnn.cc:8310] Unable to register cuDNN factory: Attempting to register factory for plugin cuDNN when one has already been registered\n",
      "E0000 00:00:1747321500.842786     439 cuda_blas.cc:1418] Unable to register cuBLAS factory: Attempting to register factory for plugin cuBLAS when one has already been registered\n",
      "2025-05-15 17:05:00.866497: I tensorflow/core/platform/cpu_feature_guard.cc:210] This TensorFlow binary is optimized to use available CPU instructions in performance-critical operations.\n",
      "To enable the following instructions: AVX2 FMA, in other operations, rebuild TensorFlow with the appropriate compiler flags.\n"
     ]
    }
   ],
   "source": [
    "import os\n",
    "import datetime\n",
    "import time\n",
    "from IPython.display import clear_output\n",
    "\n",
    "import torch\n",
    "from torch.optim.lr_scheduler import CosineAnnealingLR\n",
    "from torch_geometric.loader.dataloader import DataLoader\n",
    "import torch.nn.functional as F\n",
    "\n",
    "from sklearn.model_selection import train_test_split\n",
    "\n",
    "from ClusterDataset import ClusterDataset\n",
    "from training import *\n",
    "from data_statistics import *\n",
    "\n",
    "from GNN_TrackLinkingNet import GNN_TrackLinkingNet, FocalLoss, EarlyStopping, weight_init\n",
    "\n",
    "from IPython.display import display"
   ]
  },
  {
   "cell_type": "code",
   "execution_count": 2,
   "id": "2f01ac58",
   "metadata": {},
   "outputs": [
    {
     "name": "stdout",
     "output_type": "stream",
     "text": [
      "Using device: cuda\n"
     ]
    }
   ],
   "source": [
    "# CUDA Setup\n",
    "device = torch.device('cuda' if torch.cuda.is_available() else \"cpu\")\n",
    "# device = torch.device(\"cpu\")\n",
    "\n",
    "print(f\"Using device: {device}\")"
   ]
  },
  {
   "cell_type": "code",
   "execution_count": 3,
   "id": "7c0a8e8b",
   "metadata": {
    "scrolled": true
   },
   "outputs": [],
   "source": [
    "# Load the dataset\n",
    "hist_folder = \"/eos/user/c/czeh/histo_new/\"\n",
    "data_folder_training = \"/eos/user/c/czeh/graph_data\"\n",
    "data_folder_test = \"/eos/user/c/czeh/graph_data_test\"\n",
    "\n",
    "model_folder = \"/eos/user/c/czeh/model\"\n",
    "dataset_training = ClusterDataset(data_folder_training, hist_folder)\n",
    "dataset_test = ClusterDataset(data_folder_test, hist_folder, test=True)"
   ]
  },
  {
   "cell_type": "code",
   "execution_count": 4,
   "id": "79d1beba",
   "metadata": {},
   "outputs": [
    {
     "name": "stdout",
     "output_type": "stream",
     "text": [
      "Number of events in training dataset: 299\n"
     ]
    },
    {
     "name": "stderr",
     "output_type": "stream",
     "text": [
      "/eos/home-i04/c/czeh/SWAN_projects/Graph_Linking/ClusterDataset.py:229: FutureWarning: You are using `torch.load` with `weights_only=False` (the current default value), which uses the default pickle module implicitly. It is possible to construct malicious pickle data which will execute arbitrary code during unpickling (See https://github.com/pytorch/pytorch/blob/main/SECURITY.md#untrusted-models for more details). In a future release, the default value for `weights_only` will be flipped to `True`. This limits the functions that could be executed during unpickling. Arbitrary objects will no longer be allowed to be loaded via this mode unless they are explicitly allowlisted by the user via `torch.serialization.add_safe_globals`. We recommend you start setting `weights_only=True` for any use case where you don't have full control of the loaded file. Please open an issue on GitHub for any issues related to this experimental feature.\n",
      "  data = torch.load(osp.join(self.processed_dir, f'data_{idx}.pt'))\n"
     ]
    },
    {
     "name": "stdout",
     "output_type": "stream",
     "text": [
      "Number of nodes: 8710\n",
      "Mean Number of nodes: 29.130434782608695\n",
      "Number of edges: 53836\n",
      "Mean Number of edges: 180.05351170568562\n",
      "Number of positive edges: 47377\n",
      "Mean Number of positive edges: 158.45150756835938\n",
      "Number of negative edges: 6459\n",
      "Mean Number of negative edges: 21.602006912231445\n"
     ]
    }
   ],
   "source": [
    "print_dataset_statistics(dataset_training)"
   ]
  },
  {
   "cell_type": "code",
   "execution_count": 5,
   "id": "6e09a9a3",
   "metadata": {},
   "outputs": [
    {
     "name": "stdout",
     "output_type": "stream",
     "text": [
      "Number of events in training dataset: 100\n",
      "Number of nodes: 2891\n",
      "Mean Number of nodes: 28.91\n",
      "Number of edges: 17805\n",
      "Mean Number of edges: 178.05\n",
      "Number of positive edges: 15627\n",
      "Mean Number of positive edges: 156.27000427246094\n",
      "Number of negative edges: 2178\n",
      "Mean Number of negative edges: 21.780000686645508\n"
     ]
    }
   ],
   "source": [
    "print_dataset_statistics(dataset_test)"
   ]
  },
  {
   "cell_type": "code",
   "execution_count": 6,
   "id": "efe87ea9",
   "metadata": {},
   "outputs": [],
   "source": [
    "train_dl = DataLoader(dataset_training, shuffle=True)\n",
    "test_dl = DataLoader(dataset_test, shuffle=True)"
   ]
  },
  {
   "cell_type": "code",
   "execution_count": 7,
   "id": "a9114849",
   "metadata": {},
   "outputs": [
    {
     "data": {
      "text/plain": [
       "GNN_TrackLinkingNet(\n",
       "  (inputnetwork): Sequential(\n",
       "    (0): Linear(in_features=29, out_features=16, bias=True)\n",
       "    (1): LeakyReLU(negative_slope=0.01)\n",
       "    (2): Dropout(p=0.3, inplace=False)\n",
       "    (3): Linear(in_features=16, out_features=16, bias=True)\n",
       "    (4): LeakyReLU(negative_slope=0.01)\n",
       "  )\n",
       "  (edge_inputnetwork): Sequential(\n",
       "    (0): Linear(in_features=7, out_features=16, bias=True)\n",
       "    (1): LeakyReLU(negative_slope=0.01)\n",
       "    (2): Dropout(p=0.3, inplace=False)\n",
       "    (3): Linear(in_features=16, out_features=16, bias=True)\n",
       "    (4): LeakyReLU(negative_slope=0.01)\n",
       "  )\n",
       "  (attention_direct): Sequential(\n",
       "    (0): Linear(in_features=16, out_features=16, bias=True)\n",
       "    (1): LeakyReLU(negative_slope=0.01)\n",
       "    (2): Dropout(p=0.3, inplace=False)\n",
       "    (3): Linear(in_features=16, out_features=1, bias=True)\n",
       "    (4): Sigmoid()\n",
       "  )\n",
       "  (attention_reverse): Sequential(\n",
       "    (0): Linear(in_features=16, out_features=16, bias=True)\n",
       "    (1): LeakyReLU(negative_slope=0.01)\n",
       "    (2): Dropout(p=0.3, inplace=False)\n",
       "    (3): Linear(in_features=16, out_features=1, bias=True)\n",
       "    (4): Sigmoid()\n",
       "  )\n",
       "  (graphconvs): ModuleList(\n",
       "    (0-1): 2 x EdgeConvBlock(\n",
       "      (drop): Dropout(p=0.3, inplace=False)\n",
       "      (convs): ModuleList(\n",
       "        (0): Linear(in_features=32, out_features=32, bias=True)\n",
       "        (1): Linear(in_features=32, out_features=16, bias=True)\n",
       "      )\n",
       "      (acts): ModuleList(\n",
       "        (0-1): 2 x ReLU()\n",
       "      )\n",
       "      (sc_act): ReLU()\n",
       "    )\n",
       "  )\n",
       "  (edgenetwork): Sequential(\n",
       "    (0): Linear(in_features=55, out_features=16, bias=True)\n",
       "    (1): LeakyReLU(negative_slope=0.01)\n",
       "    (2): Dropout(p=0.3, inplace=False)\n",
       "    (3): Linear(in_features=16, out_features=1, bias=True)\n",
       "    (4): Sigmoid()\n",
       "  )\n",
       ")"
      ]
     },
     "execution_count": 7,
     "metadata": {},
     "output_type": "execute_result"
    }
   ],
   "source": [
    "epochs = 200\n",
    "start_epoch = 0\n",
    "\n",
    "model = GNN_TrackLinkingNet(input_dim = dataset_training.get(0).x.shape[1], \n",
    "                                edge_feature_dim=dataset_training.get(0).edges_features.shape[1],\n",
    "                                edge_hidden_dim=16, hidden_dim=16, weighted_aggr=True,\n",
    "                               dropout=0.3)\n",
    "model = model.to(device)\n",
    "optimizer = torch.optim.Adam(model.parameters(), lr=0.001)\n",
    "\n",
    "scheduler = CosineAnnealingLR(optimizer, epochs, eta_min=1e-6)\n",
    "loss_obj = FocalLoss(alpha=0.45, gamma=2)\n",
    "early_stopping = EarlyStopping(patience=20, delta=-2)\n",
    "\n",
    "model.apply(weight_init)\n",
    "\n",
    "# weights = torch.load(model_folder + \"/model_epoch_100_loss_26.8352_2025-05-13.pt\", weights_only=True)\n",
    "# model.load_state_dict(weights[\"model_state_dict\"])\n",
    "# optimizer.load_state_dict(weights[\"optimizer_state_dict\"])\n",
    "# start_epoch = weights[\"epoch\"]"
   ]
  },
  {
   "cell_type": "code",
   "execution_count": 8,
   "id": "31648324",
   "metadata": {
    "scrolled": false
   },
   "outputs": [
    {
     "data": {
      "image/png": "[encoded data removed]",
      "text/plain": [
       "<Figure size 432x216 with 1 Axes>"
      ]
     },
     "metadata": {},
     "output_type": "display_data"
    },
    {
     "data": {
      "text/plain": [
       "2"
      ]
     },
     "metadata": {},
     "output_type": "display_data"
    },
    {
     "name": "stdout",
     "output_type": "stream",
     "text": [
      "Epoch: 1\n"
     ]
    },
    {
     "name": "stderr",
     "output_type": "stream",
     "text": [
      "Training epoch 1: 100%|██████████| 299/299 [00:05<00:00, 52.44it/s]\n"
     ]
    },
    {
     "name": "stdout",
     "output_type": "stream",
     "text": [
      "Validation step\n"
     ]
    },
    {
     "name": "stderr",
     "output_type": "stream",
     "text": [
      "Validation: 100%|██████████| 100/100 [00:01<00:00, 90.16it/s]\n"
     ]
    },
    {
     "name": "stdout",
     "output_type": "stream",
     "text": [
      "Epoch: 2\n"
     ]
    },
    {
     "name": "stderr",
     "output_type": "stream",
     "text": [
      "Training epoch 2: 100%|██████████| 299/299 [00:04<00:00, 60.05it/s]\n"
     ]
    },
    {
     "name": "stdout",
     "output_type": "stream",
     "text": [
      "Validation step\n"
     ]
    },
    {
     "name": "stderr",
     "output_type": "stream",
     "text": [
      "Validation: 100%|██████████| 100/100 [00:01<00:00, 92.92it/s]\n"
     ]
    },
    {
     "name": "stdout",
     "output_type": "stream",
     "text": [
      "Epoch: 3\n"
     ]
    },
    {
     "name": "stderr",
     "output_type": "stream",
     "text": [
      "Training epoch 3: 100%|██████████| 299/299 [00:04<00:00, 61.16it/s]\n"
     ]
    },
    {
     "name": "stdout",
     "output_type": "stream",
     "text": [
      "Validation step\n"
     ]
    },
    {
     "name": "stderr",
     "output_type": "stream",
     "text": [
      "Validation: 100%|██████████| 100/100 [00:01<00:00, 93.18it/s]\n"
     ]
    },
    {
     "name": "stdout",
     "output_type": "stream",
     "text": [
      "Epoch: 4\n"
     ]
    },
    {
     "name": "stderr",
     "output_type": "stream",
     "text": [
      "Training epoch 4: 100%|██████████| 299/299 [00:05<00:00, 58.91it/s]\n"
     ]
    },
    {
     "name": "stdout",
     "output_type": "stream",
     "text": [
      "Validation step\n"
     ]
    },
    {
     "name": "stderr",
     "output_type": "stream",
     "text": [
      "Validation: 100%|██████████| 100/100 [00:01<00:00, 80.60it/s]\n"
     ]
    },
    {
     "name": "stdout",
     "output_type": "stream",
     "text": [
      "Epoch: 5\n"
     ]
    },
    {
     "name": "stderr",
     "output_type": "stream",
     "text": [
      "Training epoch 5: 100%|██████████| 299/299 [00:04<00:00, 60.18it/s]\n"
     ]
    },
    {
     "name": "stdout",
     "output_type": "stream",
     "text": [
      "Validation step\n"
     ]
    },
    {
     "name": "stderr",
     "output_type": "stream",
     "text": [
      "Validation: 100%|██████████| 100/100 [00:01<00:00, 98.18it/s]\n"
     ]
    },
    {
     "name": "stdout",
     "output_type": "stream",
     "text": [
      "Epoch: 6\n"
     ]
    },
    {
     "name": "stderr",
     "output_type": "stream",
     "text": [
      "Training epoch 6: 100%|██████████| 299/299 [00:05<00:00, 57.37it/s]\n"
     ]
    },
    {
     "name": "stdout",
     "output_type": "stream",
     "text": [
      "Validation step\n"
     ]
    },
    {
     "name": "stderr",
     "output_type": "stream",
     "text": [
      "Validation: 100%|██████████| 100/100 [00:01<00:00, 69.88it/s]\n"
     ]
    },
    {
     "ename": "KeyboardInterrupt",
     "evalue": "",
     "output_type": "error",
     "traceback": [
      "\u001b[0;31m---------------------------------------------------------------------------\u001b[0m",
      "\u001b[0;31mKeyboardInterrupt\u001b[0m                         Traceback (most recent call last)",
      "\u001b[0;32m/tmp/ipykernel_439/850895841.py\u001b[0m in \u001b[0;36m<module>\u001b[0;34m\u001b[0m\n\u001b[1;32m     31\u001b[0m     \u001b[0mplot_loss\u001b[0m\u001b[0;34m(\u001b[0m\u001b[0mtrain_loss_hist\u001b[0m\u001b[0;34m,\u001b[0m \u001b[0mval_loss_hist\u001b[0m\u001b[0;34m,\u001b[0m \u001b[0max\u001b[0m\u001b[0;34m=\u001b[0m\u001b[0max_loss\u001b[0m\u001b[0;34m)\u001b[0m\u001b[0;34m\u001b[0m\u001b[0;34m\u001b[0m\u001b[0m\n\u001b[1;32m     32\u001b[0m     \u001b[0mdisplay_loss\u001b[0m\u001b[0;34m.\u001b[0m\u001b[0mupdate\u001b[0m\u001b[0;34m(\u001b[0m\u001b[0mfig_loss\u001b[0m\u001b[0;34m)\u001b[0m\u001b[0;34m\u001b[0m\u001b[0;34m\u001b[0m\u001b[0m\n\u001b[0;32m---> 33\u001b[0;31m     \u001b[0mtime\u001b[0m\u001b[0;34m.\u001b[0m\u001b[0msleep\u001b[0m\u001b[0;34m(\u001b[0m\u001b[0;36m1\u001b[0m\u001b[0;34m)\u001b[0m\u001b[0;34m\u001b[0m\u001b[0;34m\u001b[0m\u001b[0m\n\u001b[0m\u001b[1;32m     34\u001b[0m \u001b[0;34m\u001b[0m\u001b[0m\n\u001b[1;32m     35\u001b[0m     \u001b[0mearly_stopping\u001b[0m\u001b[0;34m(\u001b[0m\u001b[0mmodel\u001b[0m\u001b[0;34m,\u001b[0m \u001b[0mval_loss\u001b[0m\u001b[0;34m)\u001b[0m\u001b[0;34m\u001b[0m\u001b[0;34m\u001b[0m\u001b[0m\n",
      "\u001b[0;31mKeyboardInterrupt\u001b[0m: "
     ]
    },
    {
     "data": {
      "image/png": "[encoded data removed]",
      "text/plain": [
       "<Figure size 432x216 with 1 Axes>"
      ]
     },
     "metadata": {
      "needs_background": "light"
     },
     "output_type": "display_data"
    },
    {
     "data": {
      "image/png": "[encoded data removed]",
      "text/plain": [
       "<Figure size 1080x1440 with 12 Axes>"
      ]
     },
     "metadata": {
      "needs_background": "light"
     },
     "output_type": "display_data"
    }
   ],
   "source": [
    "# decision_th = 0.5\n",
    "os.makedirs(model_folder, exist_ok=True)\n",
    "\n",
    "train_loss_hist = []\n",
    "val_loss_hist = []\n",
    "edge_features = True\n",
    "date = f\"{datetime.now():%Y-%m-%d}\"\n",
    "\n",
    "fig_loss, ax_loss = plt.subplots(1, 1)\n",
    "fig_loss.set_figwidth(6)\n",
    "fig_loss.set_figheight(3)\n",
    "\n",
    "fig_analysis, ax_analysis = plt.subplots(6, 2)\n",
    "fig_analysis.set_figwidth(15)\n",
    "fig_analysis.set_figheight(20)\n",
    "fig_analysis.tight_layout(pad=2.0)\n",
    "\n",
    "display_loss = display(1, display_id=True)\n",
    "display_analysis = display(2, display_id=True)\n",
    "\n",
    "for epoch in range(start_epoch, epochs):\n",
    "    print(f'Epoch: {epoch+1}')\n",
    "    \n",
    "    loss = train(model, optimizer, train_dl, epoch+1, device=device, edge_features=edge_features, loss_obj=loss_obj)\n",
    "    train_loss_hist.append(loss)\n",
    "    \n",
    "    val_loss, pred, y = test(model, test_dl, epoch+1, loss_obj=loss_obj, edge_features=edge_features, device=device)\n",
    "    val_loss_hist.append(val_loss)\n",
    "    \n",
    "    ax_loss.clear()\n",
    "    plot_loss(train_loss_hist, val_loss_hist, ax=ax_loss)\n",
    "    display_loss.update(fig_loss)\n",
    "    time.sleep(1)\n",
    "    \n",
    "    early_stopping(model, val_loss)\n",
    "    if early_stopping.early_stop:\n",
    "        print(f\"Early stopping after {epoch+1} epochs\")\n",
    "        early_stopping.load_best_model(model)\n",
    "        \n",
    "        for axes in ax_analysis:\n",
    "            for ax in axes:\n",
    "                ax.clear()\n",
    "                \n",
    "        plot_validation_results(pred, y, save=True, ax=ax_analysis, output_folder=model_folder, file_suffix=f\"epoch_{epoch+1}_date_{date}\")\n",
    "        display_analysis.update(fig_analysis)\n",
    "        time.sleep(1)\n",
    "        break\n",
    "      \n",
    "    if ((epoch+1)%60==0 or epoch+1==epochs):\n",
    "        print(f'Epoch: {epoch+1}')\n",
    "        \n",
    "        for axes in ax_analysis:\n",
    "            for ax in axes:\n",
    "                ax.clear()\n",
    "            \n",
    "        plot_validation_results(pred, y, save=True, ax=ax_analysis, output_folder=model_folder, file_suffix=f\"epoch_{epoch+1}_date_{date}\")\n",
    "        display_analysis.update(fig_analysis)\n",
    "        time.sleep(1)\n",
    "        \n",
    "        save_model(model, epoch, optimizer, loss, val_loss, output_folder=model_folder, filename=f\"model_epoch_{epoch+1}_date_{date}_loss_{loss:.4f}.pt\")\n",
    "    elif ((epoch+1)%20==0):\n",
    "        print(f'Epoch: {epoch+1}')\n",
    "        \n",
    "        for axes in ax_analysis:\n",
    "            for ax in axes:\n",
    "                ax.clear()\n",
    "        plot_validation_results(pred, y, save=False, ax=ax_analysis) \n",
    "        display_analysis.update(fig_analysis)\n",
    "        time.sleep(1)\n",
    "\n",
    "    scheduler.step() "
   ]
  },
  {
   "cell_type": "code",
   "execution_count": 14,
   "id": "c62fefbb",
   "metadata": {},
   "outputs": [],
   "source": []
  },
  {
   "cell_type": "code",
   "execution_count": 41,
   "id": "3f9d725a",
   "metadata": {},
   "outputs": [
    {
     "name": "stdout",
     "output_type": "stream",
     "text": [
      "tensor([[ 5.2983e+01, -2.8804e+01,  3.5685e+02,  2.4781e+00, -4.9795e-01,\n",
      "          0.0000e+00,  0.0000e+00,  0.0000e+00,  0.0000e+00,  0.0000e+00,\n",
      "          0.0000e+00,  0.0000e+00,  0.0000e+00,  0.0000e+00,  2.0000e+00,\n",
      "          7.0000e+00,  5.6327e+00,  5.6327e+00,  1.7408e-03,  2.4034e-09,\n",
      "          1.8864e-09,  2.4375e-09,  9.9826e-01,  1.4128e-09,  3.5676e+02,\n",
      "          3.6014e+02,  7.0922e-03,  9.2199e-02, -9.9000e+01],\n",
      "        [ 4.8159e+01, -3.7245e+01,  3.5549e+02,  2.4650e+00, -6.5829e-01,\n",
      "          1.2958e-01, -1.0879e-01,  9.8558e-01,  3.8365e+01,  2.0333e-02,\n",
      "          4.5139e-03,  6.1085e+00,  1.0165e+00,  2.0633e-01,  4.3000e+01,\n",
      "          6.0100e+02,  1.4065e+02,  1.2559e+02,  6.9290e-05,  5.6407e-13,\n",
      "          3.7773e-13,  3.6084e-13,  9.9993e-01,  9.2487e-13,  3.2827e+02,\n",
      "          3.6798e+02,  1.5248e-01,  9.2199e-02,  1.2200e+01],\n",
      "        [ 4.7230e+01, -4.2085e+01,  3.7337e+02,  2.4756e+00, -7.2785e-01,\n",
      "          6.0606e-02, -7.7778e-02,  9.9513e-01,  2.7030e+02,  5.9608e-01,\n",
      "          2.0529e-01,  1.6270e+01,  8.4934e-01,  2.3776e+00,  1.3000e+01,\n",
      "          5.1000e+01,  4.3205e+00,  9.5992e-01,  2.9265e-04,  2.6019e-10,\n",
      "          1.2396e-10,  2.1588e-10,  9.9971e-01,  2.6761e-10,  3.5099e+02,\n",
      "          4.0581e+02,  4.6099e-02,  9.2199e-02, -9.9000e+01],\n",
      "        [ 5.5180e+01, -4.0746e+01,  3.7540e+02,  2.4012e+00, -6.3605e-01,\n",
      "          1.3902e-01, -1.6586e-01,  9.7630e-01,  1.1351e+02,  4.0411e-01,\n",
      "          2.7027e-01,  1.0260e+01,  6.2167e-01,  2.9188e+00,  9.0000e+00,\n",
      "          2.7000e+01,  3.8119e+00,  6.6696e-01,  4.4349e-04,  6.9534e-10,\n",
      "          3.4090e-10,  5.9388e-10,  9.9956e-01,  6.7100e-10,  3.5676e+02,\n",
      "          3.8689e+02,  3.1915e-02,  9.2199e-02, -9.9000e+01],\n",
      "        [ 4.8443e+01, -3.3131e+01,  3.6859e+02,  2.5369e+00, -5.9985e-01,\n",
      "          9.7304e-02, -9.4381e-02,  9.9077e-01,  7.7839e+01,  2.6819e+00,\n",
      "          1.2549e-01,  8.6980e+00,  1.6493e+00,  1.5071e+00,  5.0000e+00,\n",
      "          2.2000e+01,  1.7934e+00,  2.9035e-01,  9.5405e-04,  3.8769e-09,\n",
      "          2.0651e-09,  3.4801e-09,  9.9905e-01,  3.5000e-09,  3.5437e+02,\n",
      "          3.7428e+02,  1.7730e-02,  9.2199e-02, -9.9000e+01],\n",
      "        [ 4.9256e+01, -4.5623e+01,  3.7342e+02,  2.4171e+00, -7.4712e-01,\n",
      "          0.0000e+00,  0.0000e+00,  0.0000e+00,  0.0000e+00,  0.0000e+00,\n",
      "          0.0000e+00,  0.0000e+00,  0.0000e+00,  0.0000e+00,  2.0000e+00,\n",
      "          4.0000e+00,  1.6144e+00,  0.0000e+00,  7.8420e-04,  3.0689e-09,\n",
      "          1.5669e-09,  2.4966e-09,  9.9922e-01,  2.8610e-09,  3.6798e+02,\n",
      "          3.7428e+02,  7.0922e-03,  9.2199e-02, -9.9000e+01],\n",
      "        [ 4.2383e+01, -3.8679e+01,  3.6853e+02,  2.5590e+00, -7.3974e-01,\n",
      "          4.4581e-02, -2.4177e-01,  9.6931e-01,  1.1829e+02,  6.3623e-01,\n",
      "          2.6132e-01,  1.0648e+01,  9.5040e-01,  2.2136e+00,  5.0000e+00,\n",
      "          1.3000e+01,  1.1325e+00,  4.0466e-01,  8.9121e-04,  3.5336e-09,\n",
      "          1.9096e-09,  3.2019e-09,  9.9911e-01,  3.3675e-09,  3.5437e+02,\n",
      "          3.7428e+02,  1.7730e-02,  9.2199e-02, -9.9000e+01],\n",
      "        [ 4.7200e+01, -3.7999e+01,  3.8722e+02,  2.5540e+00, -6.7782e-01,\n",
      "          0.0000e+00,  0.0000e+00,  0.0000e+00,  0.0000e+00,  0.0000e+00,\n",
      "          0.0000e+00,  0.0000e+00,  0.0000e+00,  0.0000e+00,  2.0000e+00,\n",
      "          5.0000e+00,  6.9416e+00,  0.0000e+00,  1.2776e-04,  1.0630e-10,\n",
      "          3.6349e-11,  6.6771e-11,  9.9987e-01,  1.0224e-10,  3.8689e+02,\n",
      "          3.9320e+02,  7.0922e-03,  9.2199e-02, -9.9000e+01],\n",
      "        [ 4.0462e+01, -5.4421e+01,  3.9374e+02,  2.4594e+00, -9.3146e-01,\n",
      "          1.2841e-01, -1.5485e-01,  9.7956e-01,  1.2112e+02,  3.2656e-01,\n",
      "          2.1959e-02,  1.0356e+01,  1.2369e+00,  3.5627e+00,  1.2000e+01,\n",
      "          8.0000e+01,  1.5932e+01,  0.0000e+00,  7.6918e-05,  5.4540e-11,\n",
      "          1.9358e-11,  3.3242e-11,  9.9992e-01,  5.3799e-11,  3.8059e+02,\n",
      "          4.2472e+02,  4.2553e-02,  9.2199e-02,  1.3497e+01],\n",
      "        [ 5.7358e+01, -3.7353e+01,  3.9601e+02,  2.4559e+00, -5.7724e-01,\n",
      "          1.8525e-01, -7.3124e-02,  9.7997e-01,  4.5177e+02,  1.2611e+00,\n",
      "          2.0572e-01,  2.0901e+01,  2.6270e+00,  3.0773e+00,  1.7000e+01,\n",
      "          4.7000e+01,  6.4514e+00,  7.0932e-01,  1.0081e-04,  4.3907e-11,\n",
      "          1.5903e-11,  2.6844e-11,  9.9990e-01,  4.5753e-11,  3.5338e+02,\n",
      "          4.3103e+02,  6.0284e-02,  9.2199e-02, -9.9000e+01],\n",
      "        [ 5.1289e+01, -4.3795e+01,  3.9040e+02,  2.4564e+00, -7.0675e-01,\n",
      "          1.1163e-01, -1.0133e-01,  9.8857e-01,  2.3216e+02,  1.0869e+00,\n",
      "          1.0861e-01,  1.4651e+01,  1.4177e+00,  4.0868e+00,  1.0000e+01,\n",
      "          3.9000e+01,  6.9653e+00,  0.0000e+00,  6.7760e-05,  2.4309e-11,\n",
      "          7.4600e-12,  1.4339e-11,  9.9993e-01,  2.5307e-11,  3.6798e+02,\n",
      "          4.1842e+02,  3.5461e-02,  9.2199e-02, -9.9000e+01],\n",
      "        [ 4.9805e+01, -4.1174e+01,  3.9735e+02,  2.5160e+00, -6.9081e-01,\n",
      "          1.1477e-01, -1.2488e-01,  9.8551e-01,  2.4245e+02,  6.6064e-01,\n",
      "          3.8421e-02,  1.5165e+01,  3.6104e+00,  3.8799e-01,  6.0000e+00,\n",
      "          3.0000e+01,  5.7310e+00,  0.0000e+00,  9.8015e-05,  7.4008e-11,\n",
      "          2.7417e-11,  4.8005e-11,  9.9990e-01,  7.7673e-11,  3.6798e+02,\n",
      "          4.2472e+02,  2.1277e-02,  9.2199e-02, -9.9000e+01],\n",
      "        [ 6.6787e+01, -3.6919e+01,  3.9658e+02,  2.3503e+00, -5.0498e-01,\n",
      "          0.0000e+00,  0.0000e+00,  0.0000e+00,  0.0000e+00,  0.0000e+00,\n",
      "          0.0000e+00,  0.0000e+00,  0.0000e+00,  0.0000e+00,  2.0000e+00,\n",
      "          5.0000e+00,  1.5035e+00,  0.0000e+00,  2.0857e-04,  3.4135e-10,\n",
      "          1.4331e-10,  2.5268e-10,  9.9979e-01,  3.3613e-10,  3.8689e+02,\n",
      "          3.9950e+02,  7.0922e-03,  9.2199e-02,  1.3982e+01],\n",
      "        [ 5.4260e+01, -4.1276e+01,  3.9923e+02,  2.4678e+00, -6.5032e-01,\n",
      "          1.4950e-01, -9.4971e-02,  9.8419e-01,  1.7952e+02,  5.1139e-01,\n",
      "          2.8506e-02,  1.2612e+01,  1.5435e+00,  4.3160e+00,  1.6000e+01,\n",
      "          2.0500e+02,  6.9388e+01,  0.0000e+00,  5.4383e-05,  4.0044e-11,\n",
      "          1.5954e-11,  2.7412e-11,  9.9995e-01,  3.7263e-11,  3.7428e+02,\n",
      "          4.3925e+02,  5.6738e-02,  9.2199e-02,  1.3671e+01],\n",
      "        [ 5.8690e+01, -3.3828e+01,  4.2236e+02,  2.5297e+00, -5.2287e-01,\n",
      "          5.2004e-02, -5.4726e-02,  9.9715e-01,  2.8110e+02,  8.9842e-02,\n",
      "         -5.1262e-07,  1.6619e+01,  7.4330e-01,  2.1121e+00,  3.0000e+00,\n",
      "          6.0000e+00,  1.1999e+00,  0.0000e+00,  6.6176e-05,  3.0376e-11,\n",
      "          1.2414e-11,  2.0870e-11,  9.9993e-01,  3.5103e-11,  4.1211e+02,\n",
      "          4.4748e+02,  1.0638e-02,  9.2199e-02, -9.9000e+01],\n",
      "        [ 5.0401e+01, -3.9213e+01,  4.0681e+02,  2.5509e+00, -6.6119e-01,\n",
      "          1.0029e-01, -1.2975e-01,  9.8646e-01,  3.0643e+02,  5.0473e-02,\n",
      "          3.9184e-02,  1.6964e+01,  4.3180e+00,  3.2192e-01,  4.0000e+00,\n",
      "          1.0000e+01,  8.4125e+00,  0.0000e+00,  1.1943e-04,  9.7799e-11,\n",
      "          4.0041e-11,  7.0733e-11,  9.9988e-01,  1.0100e-10,  3.7428e+02,\n",
      "          4.1211e+02,  1.4184e-02,  9.2199e-02, -9.9000e+01],\n",
      "        [ 4.7525e+01, -4.1546e+01,  4.1112e+02,  2.5728e+00, -7.1837e-01,\n",
      "          1.9427e-02,  1.0393e-01,  9.9439e-01,  2.8601e+01,  5.6770e-01,\n",
      "          6.0662e-07,  5.2321e+00,  1.3364e+00,  8.6056e-02,  3.0000e+00,\n",
      "          1.0000e+01,  1.3225e+00,  0.0000e+00,  8.7113e-05,  5.0223e-11,\n",
      "          1.8808e-11,  3.4086e-11,  9.9991e-01,  5.4964e-11,  4.0581e+02,\n",
      "          4.1842e+02,  1.0638e-02,  9.2199e-02, -9.9000e+01],\n",
      "        [ 5.8536e+01, -4.7163e+01,  4.1292e+02,  2.4048e+00, -6.7821e-01,\n",
      "          0.0000e+00,  0.0000e+00,  0.0000e+00,  0.0000e+00,  0.0000e+00,\n",
      "          0.0000e+00,  0.0000e+00,  0.0000e+00,  0.0000e+00,  2.0000e+00,\n",
      "          1.5000e+01,  4.7951e+00,  0.0000e+00,  3.0872e-04,  5.1162e-10,\n",
      "          3.0384e-10,  4.7513e-10,  9.9969e-01,  5.1218e-10,  4.1211e+02,\n",
      "          4.3103e+02,  7.0922e-03,  9.2199e-02,  1.4186e+01],\n",
      "        [ 5.7840e+01, -4.6391e+01,  4.2366e+02,  2.4436e+00, -6.7600e-01,\n",
      "          2.8531e-02, -4.6623e-02,  9.9850e-01,  8.1115e+01,  4.4709e-01,\n",
      "          5.8135e-02,  8.9659e+00,  1.0832e+00,  2.4262e-01,  4.0000e+00,\n",
      "          2.0000e+01,  5.2457e+00,  0.0000e+00,  8.8633e-05,  5.9938e-11,\n",
      "          2.6417e-11,  4.2789e-11,  9.9991e-01,  6.6458e-11,  4.1842e+02,\n",
      "          4.3925e+02,  1.4184e-02,  9.2199e-02,  1.4554e+01],\n",
      "        [ 6.1632e+01, -4.0546e+01,  4.0775e+02,  2.4109e+00, -5.8189e-01,\n",
      "          1.3708e-01, -9.5592e-02,  9.8594e-01,  3.7480e+02,  8.8817e-01,\n",
      "          9.8498e-02,  1.8721e+01,  9.9826e-01,  4.9312e+00,  6.0000e+00,\n",
      "          1.6000e+01,  2.9233e+00,  8.5938e-02,  1.3694e-04,  1.0680e-10,\n",
      "          4.4692e-11,  7.0680e-11,  9.9986e-01,  1.0901e-10,  3.6014e+02,\n",
      "          4.1842e+02,  2.1277e-02,  9.2199e-02, -9.9000e+01],\n",
      "        [ 5.9405e+01, -4.9810e+01,  4.1743e+02,  2.3852e+00, -6.9777e-01,\n",
      "          0.0000e+00,  0.0000e+00,  0.0000e+00,  0.0000e+00,  0.0000e+00,\n",
      "          0.0000e+00,  0.0000e+00,  0.0000e+00,  0.0000e+00,  2.0000e+00,\n",
      "          1.7000e+01,  2.9001e+00,  0.0000e+00,  3.9239e-04,  8.0187e-10,\n",
      "          4.8540e-10,  7.9700e-10,  9.9961e-01,  7.8500e-10,  4.0581e+02,\n",
      "          4.1842e+02,  7.0922e-03,  9.2199e-02,  1.4367e+01],\n",
      "        [ 5.5560e+01, -3.7521e+01,  4.3639e+02,  2.5722e+00, -5.9397e-01,\n",
      "          1.4585e-01, -6.7958e-02,  9.8697e-01,  3.1706e+02,  2.7102e+00,\n",
      "          8.7867e-01,  1.7375e+01,  2.1966e+00,  3.7351e+00,  7.0000e+00,\n",
      "          1.5000e+01,  2.2027e+00,  0.0000e+00,  1.9925e-05,  2.7372e-12,\n",
      "          9.3461e-13,  1.5352e-12,  9.9998e-01,  3.3609e-12,  4.1842e+02,\n",
      "          4.6393e+02,  2.4823e-02,  9.2199e-02, -9.9000e+01],\n",
      "        [ 5.7760e+01, -4.0943e+01,  4.3514e+02,  2.5155e+00, -6.1664e-01,\n",
      "          9.2896e-02, -1.3170e-01,  9.8693e-01,  1.9708e+02,  4.3474e+00,\n",
      "          8.1219e-02,  1.3867e+01,  9.9437e-01,  2.8684e+00,  7.0000e+00,\n",
      "          2.2000e+01,  4.7486e+00,  0.0000e+00,  1.5963e-05,  1.2206e-12,\n",
      "          3.5504e-13,  5.9719e-13,  9.9998e-01,  1.4701e-12,  3.9950e+02,\n",
      "          4.5570e+02,  2.4823e-02,  9.2199e-02, -9.9000e+01],\n",
      "        [ 4.7942e+01, -6.4535e+01,  4.4051e+02,  2.4024e+00, -9.3186e-01,\n",
      "          0.0000e+00,  0.0000e+00,  0.0000e+00,  0.0000e+00,  0.0000e+00,\n",
      "          0.0000e+00,  0.0000e+00,  0.0000e+00,  0.0000e+00,  2.0000e+00,\n",
      "          1.1000e+01,  3.5402e+00,  0.0000e+00,  4.4314e-05,  1.0377e-11,\n",
      "          3.8524e-12,  5.9429e-12,  9.9996e-01,  1.0036e-11,  4.3925e+02,\n",
      "          4.4748e+02,  7.0922e-03,  9.2199e-02,  1.5096e+01],\n",
      "        [ 4.6524e+01, -6.3939e+01,  4.4797e+02,  2.4352e+00, -9.4177e-01,\n",
      "          0.0000e+00,  0.0000e+00,  0.0000e+00,  0.0000e+00,  0.0000e+00,\n",
      "          0.0000e+00,  0.0000e+00,  0.0000e+00,  0.0000e+00,  2.0000e+00,\n",
      "          8.0000e+00,  2.4212e+00,  0.0000e+00,  5.7824e-05,  1.6123e-11,\n",
      "          7.0621e-12,  9.8411e-12,  9.9994e-01,  1.6834e-11,  4.4748e+02,\n",
      "          4.5570e+02,  7.0922e-03,  9.2199e-02,  1.5370e+01],\n",
      "        [ 6.3302e+01, -4.8505e+01,  4.7484e+02,  2.4842e+00, -6.5381e-01,\n",
      "          9.3309e-02, -3.0527e-02,  9.9517e-01,  5.8537e+01,  2.1878e-01,\n",
      "          2.6299e-06,  7.5036e+00,  6.3333e-01,  1.4320e+00,  5.0000e+00,\n",
      "          1.3000e+01,  2.0403e+00,  0.0000e+00,  2.5641e-05,  1.8557e-12,\n",
      "          7.8816e-13,  9.6817e-13,  9.9997e-01,  2.0168e-12,  4.6393e+02,\n",
      "          4.8038e+02,  1.7730e-02,  9.2199e-02, -9.9000e+01]],\n",
      "       dtype=torch.float64)\n"
     ]
    }
   ],
   "source": []
  },
  {
   "cell_type": "code",
   "execution_count": 44,
   "id": "6e553031",
   "metadata": {},
   "outputs": [
    {
     "ename": "TypeError",
     "evalue": "linear(): argument 'input' (position 1) must be Tensor, not numpy.ndarray",
     "output_type": "error",
     "traceback": [
      "\u001b[0;31m---------------------------------------------------------------------------\u001b[0m",
      "\u001b[0;31mTypeError\u001b[0m                                 Traceback (most recent call last)",
      "\u001b[0;32m/tmp/ipykernel_439/2656092601.py\u001b[0m in \u001b[0;36m<module>\u001b[0;34m\u001b[0m\n\u001b[1;32m      1\u001b[0m \u001b[0mexplainer\u001b[0m \u001b[0;34m=\u001b[0m \u001b[0mshap\u001b[0m\u001b[0;34m.\u001b[0m\u001b[0mExplainer\u001b[0m\u001b[0;34m(\u001b[0m\u001b[0mmodel\u001b[0m\u001b[0;34m.\u001b[0m\u001b[0minputnetwork\u001b[0m\u001b[0;34m,\u001b[0m \u001b[0mbatch\u001b[0m\u001b[0;34m[\u001b[0m\u001b[0;36m0\u001b[0m\u001b[0;34m]\u001b[0m\u001b[0;34m.\u001b[0m\u001b[0mx\u001b[0m\u001b[0;34m.\u001b[0m\u001b[0mnumpy\u001b[0m\u001b[0;34m(\u001b[0m\u001b[0;34m)\u001b[0m\u001b[0;34m)\u001b[0m\u001b[0;34m\u001b[0m\u001b[0;34m\u001b[0m\u001b[0m\n\u001b[0;32m----> 2\u001b[0;31m \u001b[0mshap_values\u001b[0m \u001b[0;34m=\u001b[0m \u001b[0mexplainer\u001b[0m\u001b[0;34m.\u001b[0m\u001b[0mshap_values\u001b[0m\u001b[0;34m(\u001b[0m\u001b[0mbatch\u001b[0m\u001b[0;34m[\u001b[0m\u001b[0;36m1\u001b[0m\u001b[0;34m]\u001b[0m\u001b[0;34m.\u001b[0m\u001b[0mx\u001b[0m\u001b[0;34m.\u001b[0m\u001b[0mnumpy\u001b[0m\u001b[0;34m(\u001b[0m\u001b[0;34m)\u001b[0m\u001b[0;34m)\u001b[0m\u001b[0;34m\u001b[0m\u001b[0;34m\u001b[0m\u001b[0m\n\u001b[0m",
      "\u001b[0;32m~/.local/lib/python3.11/site-packages/shap/explainers/_permutation.py\u001b[0m in \u001b[0;36mshap_values\u001b[0;34m(self, X, npermutations, main_effects, error_bounds, batch_evals, silent)\u001b[0m\n\u001b[1;32m    248\u001b[0m \u001b[0;34m\u001b[0m\u001b[0m\n\u001b[1;32m    249\u001b[0m         \"\"\"\n\u001b[0;32m--> 250\u001b[0;31m         \u001b[0mexplanation\u001b[0m \u001b[0;34m=\u001b[0m \u001b[0mself\u001b[0m\u001b[0;34m(\u001b[0m\u001b[0mX\u001b[0m\u001b[0;34m,\u001b[0m \u001b[0mmax_evals\u001b[0m\u001b[0;34m=\u001b[0m\u001b[0mnpermutations\u001b[0m \u001b[0;34m*\u001b[0m \u001b[0mX\u001b[0m\u001b[0;34m.\u001b[0m\u001b[0mshape\u001b[0m\u001b[0;34m[\u001b[0m\u001b[0;36m1\u001b[0m\u001b[0;34m]\u001b[0m\u001b[0;34m,\u001b[0m \u001b[0mmain_effects\u001b[0m\u001b[0;34m=\u001b[0m\u001b[0mmain_effects\u001b[0m\u001b[0;34m)\u001b[0m\u001b[0;34m\u001b[0m\u001b[0;34m\u001b[0m\u001b[0m\n\u001b[0m\u001b[1;32m    251\u001b[0m         \u001b[0;32mreturn\u001b[0m \u001b[0mexplanation\u001b[0m\u001b[0;34m.\u001b[0m\u001b[0mvalues\u001b[0m\u001b[0;34m\u001b[0m\u001b[0;34m\u001b[0m\u001b[0m\n\u001b[1;32m    252\u001b[0m \u001b[0;34m\u001b[0m\u001b[0m\n",
      "\u001b[0;32m~/.local/lib/python3.11/site-packages/shap/explainers/_permutation.py\u001b[0m in \u001b[0;36m__call__\u001b[0;34m(self, max_evals, main_effects, error_bounds, batch_size, outputs, silent, *args)\u001b[0m\n\u001b[1;32m     98\u001b[0m     ):\n\u001b[1;32m     99\u001b[0m         \u001b[0;34m\"\"\"Explain the output of the model on the given arguments.\"\"\"\u001b[0m\u001b[0;34m\u001b[0m\u001b[0;34m\u001b[0m\u001b[0m\n\u001b[0;32m--> 100\u001b[0;31m         return super().__call__(\n\u001b[0m\u001b[1;32m    101\u001b[0m             \u001b[0;34m*\u001b[0m\u001b[0margs\u001b[0m\u001b[0;34m,\u001b[0m\u001b[0;34m\u001b[0m\u001b[0;34m\u001b[0m\u001b[0m\n\u001b[1;32m    102\u001b[0m             \u001b[0mmax_evals\u001b[0m\u001b[0;34m=\u001b[0m\u001b[0mmax_evals\u001b[0m\u001b[0;34m,\u001b[0m\u001b[0;34m\u001b[0m\u001b[0;34m\u001b[0m\u001b[0m\n",
      "\u001b[0;32m~/.local/lib/python3.11/site-packages/shap/explainers/_explainer.py\u001b[0m in \u001b[0;36m__call__\u001b[0;34m(self, max_evals, main_effects, error_bounds, batch_size, outputs, silent, *args, **kwargs)\u001b[0m\n\u001b[1;32m    364\u001b[0m             \u001b[0mfeature_names\u001b[0m \u001b[0;34m=\u001b[0m \u001b[0;34m[\u001b[0m\u001b[0;34m[\u001b[0m\u001b[0;34m]\u001b[0m \u001b[0;32mfor\u001b[0m \u001b[0m_\u001b[0m \u001b[0;32min\u001b[0m \u001b[0mrange\u001b[0m\u001b[0;34m(\u001b[0m\u001b[0mlen\u001b[0m\u001b[0;34m(\u001b[0m\u001b[0margs\u001b[0m\u001b[0;34m)\u001b[0m\u001b[0;34m)\u001b[0m\u001b[0;34m]\u001b[0m\u001b[0;34m\u001b[0m\u001b[0;34m\u001b[0m\u001b[0m\n\u001b[1;32m    365\u001b[0m         \u001b[0;32mfor\u001b[0m \u001b[0mrow_args\u001b[0m \u001b[0;32min\u001b[0m \u001b[0mshow_progress\u001b[0m\u001b[0;34m(\u001b[0m\u001b[0mzip\u001b[0m\u001b[0;34m(\u001b[0m\u001b[0;34m*\u001b[0m\u001b[0margs\u001b[0m\u001b[0;34m)\u001b[0m\u001b[0;34m,\u001b[0m \u001b[0mnum_rows\u001b[0m\u001b[0;34m,\u001b[0m \u001b[0mself\u001b[0m\u001b[0;34m.\u001b[0m\u001b[0m__class__\u001b[0m\u001b[0;34m.\u001b[0m\u001b[0m__name__\u001b[0m \u001b[0;34m+\u001b[0m \u001b[0;34m\" explainer\"\u001b[0m\u001b[0;34m,\u001b[0m \u001b[0msilent\u001b[0m\u001b[0;34m)\u001b[0m\u001b[0;34m:\u001b[0m\u001b[0;34m\u001b[0m\u001b[0;34m\u001b[0m\u001b[0m\n\u001b[0;32m--> 366\u001b[0;31m             row_result = self.explain_row(\n\u001b[0m\u001b[1;32m    367\u001b[0m                 \u001b[0;34m*\u001b[0m\u001b[0mrow_args\u001b[0m\u001b[0;34m,\u001b[0m\u001b[0;34m\u001b[0m\u001b[0;34m\u001b[0m\u001b[0m\n\u001b[1;32m    368\u001b[0m                 \u001b[0mmax_evals\u001b[0m\u001b[0;34m=\u001b[0m\u001b[0mmax_evals\u001b[0m\u001b[0;34m,\u001b[0m\u001b[0;34m\u001b[0m\u001b[0;34m\u001b[0m\u001b[0m\n",
      "\u001b[0;32m~/.local/lib/python3.11/site-packages/shap/explainers/_permutation.py\u001b[0m in \u001b[0;36mexplain_row\u001b[0;34m(self, max_evals, main_effects, error_bounds, batch_size, outputs, silent, *row_args)\u001b[0m\n\u001b[1;32m    160\u001b[0m \u001b[0;34m\u001b[0m\u001b[0m\n\u001b[1;32m    161\u001b[0m                 \u001b[0;31m# evaluate the masked model\u001b[0m\u001b[0;34m\u001b[0m\u001b[0;34m\u001b[0m\u001b[0m\n\u001b[0;32m--> 162\u001b[0;31m                 \u001b[0moutputs\u001b[0m \u001b[0;34m=\u001b[0m \u001b[0mfm\u001b[0m\u001b[0;34m(\u001b[0m\u001b[0mmasks\u001b[0m\u001b[0;34m,\u001b[0m \u001b[0mzero_index\u001b[0m\u001b[0;34m=\u001b[0m\u001b[0;36m0\u001b[0m\u001b[0;34m,\u001b[0m \u001b[0mbatch_size\u001b[0m\u001b[0;34m=\u001b[0m\u001b[0mbatch_size\u001b[0m\u001b[0;34m)\u001b[0m\u001b[0;34m\u001b[0m\u001b[0;34m\u001b[0m\u001b[0m\n\u001b[0m\u001b[1;32m    163\u001b[0m \u001b[0;34m\u001b[0m\u001b[0m\n\u001b[1;32m    164\u001b[0m                 \u001b[0;32mif\u001b[0m \u001b[0mrow_values\u001b[0m \u001b[0;32mis\u001b[0m \u001b[0;32mNone\u001b[0m\u001b[0;34m:\u001b[0m\u001b[0;34m\u001b[0m\u001b[0;34m\u001b[0m\u001b[0m\n",
      "\u001b[0;32m~/.local/lib/python3.11/site-packages/shap/utils/_masked_model.py\u001b[0m in \u001b[0;36m__call__\u001b[0;34m(self, masks, zero_index, batch_size)\u001b[0m\n\u001b[1;32m     55\u001b[0m         \u001b[0;32mif\u001b[0m \u001b[0mlen\u001b[0m\u001b[0;34m(\u001b[0m\u001b[0mmasks\u001b[0m\u001b[0;34m.\u001b[0m\u001b[0mshape\u001b[0m\u001b[0;34m)\u001b[0m \u001b[0;34m==\u001b[0m \u001b[0;36m1\u001b[0m\u001b[0;34m:\u001b[0m\u001b[0;34m\u001b[0m\u001b[0;34m\u001b[0m\u001b[0m\n\u001b[1;32m     56\u001b[0m             \u001b[0;32mif\u001b[0m \u001b[0mgetattr\u001b[0m\u001b[0;34m(\u001b[0m\u001b[0mself\u001b[0m\u001b[0;34m.\u001b[0m\u001b[0mmasker\u001b[0m\u001b[0;34m,\u001b[0m \u001b[0;34m\"supports_delta_masking\"\u001b[0m\u001b[0;34m,\u001b[0m \u001b[0;32mFalse\u001b[0m\u001b[0;34m)\u001b[0m\u001b[0;34m:\u001b[0m\u001b[0;34m\u001b[0m\u001b[0;34m\u001b[0m\u001b[0m\n\u001b[0;32m---> 57\u001b[0;31m                 \u001b[0;32mreturn\u001b[0m \u001b[0mself\u001b[0m\u001b[0;34m.\u001b[0m\u001b[0m_delta_masking_call\u001b[0m\u001b[0;34m(\u001b[0m\u001b[0mmasks\u001b[0m\u001b[0;34m,\u001b[0m \u001b[0mzero_index\u001b[0m\u001b[0;34m=\u001b[0m\u001b[0mzero_index\u001b[0m\u001b[0;34m,\u001b[0m \u001b[0mbatch_size\u001b[0m\u001b[0;34m=\u001b[0m\u001b[0mbatch_size\u001b[0m\u001b[0;34m)\u001b[0m\u001b[0;34m\u001b[0m\u001b[0;34m\u001b[0m\u001b[0m\n\u001b[0m\u001b[1;32m     58\u001b[0m \u001b[0;34m\u001b[0m\u001b[0m\n\u001b[1;32m     59\u001b[0m             \u001b[0;31m# we need to convert from delta masking to a full masking call because we were given a delta masking\u001b[0m\u001b[0;34m\u001b[0m\u001b[0;34m\u001b[0m\u001b[0m\n",
      "\u001b[0;32m~/.local/lib/python3.11/site-packages/shap/utils/_masked_model.py\u001b[0m in \u001b[0;36m_delta_masking_call\u001b[0;34m(self, masks, zero_index, batch_size)\u001b[0m\n\u001b[1;32m    207\u001b[0m \u001b[0;34m\u001b[0m\u001b[0m\n\u001b[1;32m    208\u001b[0m         \u001b[0;31m# joined_masked_inputs = self._stack_inputs(all_masked_inputs)\u001b[0m\u001b[0;34m\u001b[0m\u001b[0;34m\u001b[0m\u001b[0m\n\u001b[0;32m--> 209\u001b[0;31m         \u001b[0moutputs\u001b[0m \u001b[0;34m=\u001b[0m \u001b[0mself\u001b[0m\u001b[0;34m.\u001b[0m\u001b[0mmodel\u001b[0m\u001b[0;34m(\u001b[0m\u001b[0;34m*\u001b[0m\u001b[0msubset_masked_inputs\u001b[0m\u001b[0;34m)\u001b[0m\u001b[0;34m\u001b[0m\u001b[0;34m\u001b[0m\u001b[0m\n\u001b[0m\u001b[1;32m    210\u001b[0m         \u001b[0m_assert_output_input_match\u001b[0m\u001b[0;34m(\u001b[0m\u001b[0msubset_masked_inputs\u001b[0m\u001b[0;34m,\u001b[0m \u001b[0moutputs\u001b[0m\u001b[0;34m)\u001b[0m\u001b[0;34m\u001b[0m\u001b[0;34m\u001b[0m\u001b[0m\n\u001b[1;32m    211\u001b[0m \u001b[0;34m\u001b[0m\u001b[0m\n",
      "\u001b[0;32m~/.local/lib/python3.11/site-packages/shap/models/_model.py\u001b[0m in \u001b[0;36m__call__\u001b[0;34m(self, *args)\u001b[0m\n\u001b[1;32m     21\u001b[0m \u001b[0;34m\u001b[0m\u001b[0m\n\u001b[1;32m     22\u001b[0m     \u001b[0;32mdef\u001b[0m \u001b[0m__call__\u001b[0m\u001b[0;34m(\u001b[0m\u001b[0mself\u001b[0m\u001b[0;34m,\u001b[0m \u001b[0;34m*\u001b[0m\u001b[0margs\u001b[0m\u001b[0;34m)\u001b[0m\u001b[0;34m:\u001b[0m\u001b[0;34m\u001b[0m\u001b[0;34m\u001b[0m\u001b[0m\n\u001b[0;32m---> 23\u001b[0;31m         \u001b[0mout\u001b[0m \u001b[0;34m=\u001b[0m \u001b[0mself\u001b[0m\u001b[0;34m.\u001b[0m\u001b[0minner_model\u001b[0m\u001b[0;34m(\u001b[0m\u001b[0;34m*\u001b[0m\u001b[0margs\u001b[0m\u001b[0;34m)\u001b[0m\u001b[0;34m\u001b[0m\u001b[0;34m\u001b[0m\u001b[0m\n\u001b[0m\u001b[1;32m     24\u001b[0m         \u001b[0mis_tensor\u001b[0m \u001b[0;34m=\u001b[0m \u001b[0msafe_isinstance\u001b[0m\u001b[0;34m(\u001b[0m\u001b[0mout\u001b[0m\u001b[0;34m,\u001b[0m \u001b[0;34m\"torch.Tensor\"\u001b[0m\u001b[0;34m)\u001b[0m\u001b[0;34m\u001b[0m\u001b[0;34m\u001b[0m\u001b[0m\n\u001b[1;32m     25\u001b[0m         \u001b[0mout\u001b[0m \u001b[0;34m=\u001b[0m \u001b[0mout\u001b[0m\u001b[0;34m.\u001b[0m\u001b[0mcpu\u001b[0m\u001b[0;34m(\u001b[0m\u001b[0;34m)\u001b[0m\u001b[0;34m.\u001b[0m\u001b[0mdetach\u001b[0m\u001b[0;34m(\u001b[0m\u001b[0;34m)\u001b[0m\u001b[0;34m.\u001b[0m\u001b[0mnumpy\u001b[0m\u001b[0;34m(\u001b[0m\u001b[0;34m)\u001b[0m \u001b[0;32mif\u001b[0m \u001b[0mis_tensor\u001b[0m \u001b[0;32melse\u001b[0m \u001b[0mnp\u001b[0m\u001b[0;34m.\u001b[0m\u001b[0marray\u001b[0m\u001b[0;34m(\u001b[0m\u001b[0mout\u001b[0m\u001b[0;34m)\u001b[0m\u001b[0;34m\u001b[0m\u001b[0;34m\u001b[0m\u001b[0m\n",
      "\u001b[0;32m/cvmfs/sft.cern.ch/lcg/views/LCG_107_cuda/x86_64-el9-gcc11-opt/lib/python3.11/site-packages/torch/nn/modules/module.py\u001b[0m in \u001b[0;36m_wrapped_call_impl\u001b[0;34m(self, *args, **kwargs)\u001b[0m\n\u001b[1;32m   1734\u001b[0m             \u001b[0;32mreturn\u001b[0m \u001b[0mself\u001b[0m\u001b[0;34m.\u001b[0m\u001b[0m_compiled_call_impl\u001b[0m\u001b[0;34m(\u001b[0m\u001b[0;34m*\u001b[0m\u001b[0margs\u001b[0m\u001b[0;34m,\u001b[0m \u001b[0;34m**\u001b[0m\u001b[0mkwargs\u001b[0m\u001b[0;34m)\u001b[0m  \u001b[0;31m# type: ignore[misc]\u001b[0m\u001b[0;34m\u001b[0m\u001b[0;34m\u001b[0m\u001b[0m\n\u001b[1;32m   1735\u001b[0m         \u001b[0;32melse\u001b[0m\u001b[0;34m:\u001b[0m\u001b[0;34m\u001b[0m\u001b[0;34m\u001b[0m\u001b[0m\n\u001b[0;32m-> 1736\u001b[0;31m             \u001b[0;32mreturn\u001b[0m \u001b[0mself\u001b[0m\u001b[0;34m.\u001b[0m\u001b[0m_call_impl\u001b[0m\u001b[0;34m(\u001b[0m\u001b[0;34m*\u001b[0m\u001b[0margs\u001b[0m\u001b[0;34m,\u001b[0m \u001b[0;34m**\u001b[0m\u001b[0mkwargs\u001b[0m\u001b[0;34m)\u001b[0m\u001b[0;34m\u001b[0m\u001b[0;34m\u001b[0m\u001b[0m\n\u001b[0m\u001b[1;32m   1737\u001b[0m \u001b[0;34m\u001b[0m\u001b[0m\n\u001b[1;32m   1738\u001b[0m     \u001b[0;31m# torchrec tests the code consistency with the following code\u001b[0m\u001b[0;34m\u001b[0m\u001b[0;34m\u001b[0m\u001b[0m\n",
      "\u001b[0;32m/cvmfs/sft.cern.ch/lcg/views/LCG_107_cuda/x86_64-el9-gcc11-opt/lib/python3.11/site-packages/torch/nn/modules/module.py\u001b[0m in \u001b[0;36m_call_impl\u001b[0;34m(self, *args, **kwargs)\u001b[0m\n\u001b[1;32m   1745\u001b[0m                 \u001b[0;32mor\u001b[0m \u001b[0m_global_backward_pre_hooks\u001b[0m \u001b[0;32mor\u001b[0m \u001b[0m_global_backward_hooks\u001b[0m\u001b[0;34m\u001b[0m\u001b[0;34m\u001b[0m\u001b[0m\n\u001b[1;32m   1746\u001b[0m                 or _global_forward_hooks or _global_forward_pre_hooks):\n\u001b[0;32m-> 1747\u001b[0;31m             \u001b[0;32mreturn\u001b[0m \u001b[0mforward_call\u001b[0m\u001b[0;34m(\u001b[0m\u001b[0;34m*\u001b[0m\u001b[0margs\u001b[0m\u001b[0;34m,\u001b[0m \u001b[0;34m**\u001b[0m\u001b[0mkwargs\u001b[0m\u001b[0;34m)\u001b[0m\u001b[0;34m\u001b[0m\u001b[0;34m\u001b[0m\u001b[0m\n\u001b[0m\u001b[1;32m   1748\u001b[0m \u001b[0;34m\u001b[0m\u001b[0m\n\u001b[1;32m   1749\u001b[0m         \u001b[0mresult\u001b[0m \u001b[0;34m=\u001b[0m \u001b[0;32mNone\u001b[0m\u001b[0;34m\u001b[0m\u001b[0;34m\u001b[0m\u001b[0m\n",
      "\u001b[0;32m/cvmfs/sft.cern.ch/lcg/views/LCG_107_cuda/x86_64-el9-gcc11-opt/lib/python3.11/site-packages/torch/nn/modules/container.py\u001b[0m in \u001b[0;36mforward\u001b[0;34m(self, input)\u001b[0m\n\u001b[1;32m    248\u001b[0m     \u001b[0;32mdef\u001b[0m \u001b[0mforward\u001b[0m\u001b[0;34m(\u001b[0m\u001b[0mself\u001b[0m\u001b[0;34m,\u001b[0m \u001b[0minput\u001b[0m\u001b[0;34m)\u001b[0m\u001b[0;34m:\u001b[0m\u001b[0;34m\u001b[0m\u001b[0;34m\u001b[0m\u001b[0m\n\u001b[1;32m    249\u001b[0m         \u001b[0;32mfor\u001b[0m \u001b[0mmodule\u001b[0m \u001b[0;32min\u001b[0m \u001b[0mself\u001b[0m\u001b[0;34m:\u001b[0m\u001b[0;34m\u001b[0m\u001b[0;34m\u001b[0m\u001b[0m\n\u001b[0;32m--> 250\u001b[0;31m             \u001b[0minput\u001b[0m \u001b[0;34m=\u001b[0m \u001b[0mmodule\u001b[0m\u001b[0;34m(\u001b[0m\u001b[0minput\u001b[0m\u001b[0;34m)\u001b[0m\u001b[0;34m\u001b[0m\u001b[0;34m\u001b[0m\u001b[0m\n\u001b[0m\u001b[1;32m    251\u001b[0m         \u001b[0;32mreturn\u001b[0m \u001b[0minput\u001b[0m\u001b[0;34m\u001b[0m\u001b[0;34m\u001b[0m\u001b[0m\n\u001b[1;32m    252\u001b[0m \u001b[0;34m\u001b[0m\u001b[0m\n",
      "\u001b[0;32m/cvmfs/sft.cern.ch/lcg/views/LCG_107_cuda/x86_64-el9-gcc11-opt/lib/python3.11/site-packages/torch/nn/modules/module.py\u001b[0m in \u001b[0;36m_wrapped_call_impl\u001b[0;34m(self, *args, **kwargs)\u001b[0m\n\u001b[1;32m   1734\u001b[0m             \u001b[0;32mreturn\u001b[0m \u001b[0mself\u001b[0m\u001b[0;34m.\u001b[0m\u001b[0m_compiled_call_impl\u001b[0m\u001b[0;34m(\u001b[0m\u001b[0;34m*\u001b[0m\u001b[0margs\u001b[0m\u001b[0;34m,\u001b[0m \u001b[0;34m**\u001b[0m\u001b[0mkwargs\u001b[0m\u001b[0;34m)\u001b[0m  \u001b[0;31m# type: ignore[misc]\u001b[0m\u001b[0;34m\u001b[0m\u001b[0;34m\u001b[0m\u001b[0m\n\u001b[1;32m   1735\u001b[0m         \u001b[0;32melse\u001b[0m\u001b[0;34m:\u001b[0m\u001b[0;34m\u001b[0m\u001b[0;34m\u001b[0m\u001b[0m\n\u001b[0;32m-> 1736\u001b[0;31m             \u001b[0;32mreturn\u001b[0m \u001b[0mself\u001b[0m\u001b[0;34m.\u001b[0m\u001b[0m_call_impl\u001b[0m\u001b[0;34m(\u001b[0m\u001b[0;34m*\u001b[0m\u001b[0margs\u001b[0m\u001b[0;34m,\u001b[0m \u001b[0;34m**\u001b[0m\u001b[0mkwargs\u001b[0m\u001b[0;34m)\u001b[0m\u001b[0;34m\u001b[0m\u001b[0;34m\u001b[0m\u001b[0m\n\u001b[0m\u001b[1;32m   1737\u001b[0m \u001b[0;34m\u001b[0m\u001b[0m\n\u001b[1;32m   1738\u001b[0m     \u001b[0;31m# torchrec tests the code consistency with the following code\u001b[0m\u001b[0;34m\u001b[0m\u001b[0;34m\u001b[0m\u001b[0m\n",
      "\u001b[0;32m/cvmfs/sft.cern.ch/lcg/views/LCG_107_cuda/x86_64-el9-gcc11-opt/lib/python3.11/site-packages/torch/nn/modules/module.py\u001b[0m in \u001b[0;36m_call_impl\u001b[0;34m(self, *args, **kwargs)\u001b[0m\n\u001b[1;32m   1745\u001b[0m                 \u001b[0;32mor\u001b[0m \u001b[0m_global_backward_pre_hooks\u001b[0m \u001b[0;32mor\u001b[0m \u001b[0m_global_backward_hooks\u001b[0m\u001b[0;34m\u001b[0m\u001b[0;34m\u001b[0m\u001b[0m\n\u001b[1;32m   1746\u001b[0m                 or _global_forward_hooks or _global_forward_pre_hooks):\n\u001b[0;32m-> 1747\u001b[0;31m             \u001b[0;32mreturn\u001b[0m \u001b[0mforward_call\u001b[0m\u001b[0;34m(\u001b[0m\u001b[0;34m*\u001b[0m\u001b[0margs\u001b[0m\u001b[0;34m,\u001b[0m \u001b[0;34m**\u001b[0m\u001b[0mkwargs\u001b[0m\u001b[0;34m)\u001b[0m\u001b[0;34m\u001b[0m\u001b[0;34m\u001b[0m\u001b[0m\n\u001b[0m\u001b[1;32m   1748\u001b[0m \u001b[0;34m\u001b[0m\u001b[0m\n\u001b[1;32m   1749\u001b[0m         \u001b[0mresult\u001b[0m \u001b[0;34m=\u001b[0m \u001b[0;32mNone\u001b[0m\u001b[0;34m\u001b[0m\u001b[0;34m\u001b[0m\u001b[0m\n",
      "\u001b[0;32m/cvmfs/sft.cern.ch/lcg/views/LCG_107_cuda/x86_64-el9-gcc11-opt/lib/python3.11/site-packages/torch/nn/modules/linear.py\u001b[0m in \u001b[0;36mforward\u001b[0;34m(self, input)\u001b[0m\n\u001b[1;32m    123\u001b[0m \u001b[0;34m\u001b[0m\u001b[0m\n\u001b[1;32m    124\u001b[0m     \u001b[0;32mdef\u001b[0m \u001b[0mforward\u001b[0m\u001b[0;34m(\u001b[0m\u001b[0mself\u001b[0m\u001b[0;34m,\u001b[0m \u001b[0minput\u001b[0m\u001b[0;34m:\u001b[0m \u001b[0mTensor\u001b[0m\u001b[0;34m)\u001b[0m \u001b[0;34m->\u001b[0m \u001b[0mTensor\u001b[0m\u001b[0;34m:\u001b[0m\u001b[0;34m\u001b[0m\u001b[0;34m\u001b[0m\u001b[0m\n\u001b[0;32m--> 125\u001b[0;31m         \u001b[0;32mreturn\u001b[0m \u001b[0mF\u001b[0m\u001b[0;34m.\u001b[0m\u001b[0mlinear\u001b[0m\u001b[0;34m(\u001b[0m\u001b[0minput\u001b[0m\u001b[0;34m,\u001b[0m \u001b[0mself\u001b[0m\u001b[0;34m.\u001b[0m\u001b[0mweight\u001b[0m\u001b[0;34m,\u001b[0m \u001b[0mself\u001b[0m\u001b[0;34m.\u001b[0m\u001b[0mbias\u001b[0m\u001b[0;34m)\u001b[0m\u001b[0;34m\u001b[0m\u001b[0;34m\u001b[0m\u001b[0m\n\u001b[0m\u001b[1;32m    126\u001b[0m \u001b[0;34m\u001b[0m\u001b[0m\n\u001b[1;32m    127\u001b[0m     \u001b[0;32mdef\u001b[0m \u001b[0mextra_repr\u001b[0m\u001b[0;34m(\u001b[0m\u001b[0mself\u001b[0m\u001b[0;34m)\u001b[0m \u001b[0;34m->\u001b[0m \u001b[0mstr\u001b[0m\u001b[0;34m:\u001b[0m\u001b[0;34m\u001b[0m\u001b[0;34m\u001b[0m\u001b[0m\n",
      "\u001b[0;31mTypeError\u001b[0m: linear(): argument 'input' (position 1) must be Tensor, not numpy.ndarray"
     ]
    }
   ],
   "source": []
  },
  {
   "cell_type": "code",
   "execution_count": null,
   "id": "197eeb96",
   "metadata": {},
   "outputs": [],
   "source": []
  }
 ],
 "metadata": {
  "@webio": {
   "lastCommId": null,
   "lastKernelId": null
  },
  "kernelspec": {
   "display_name": "Python 3",
   "language": "python",
   "name": "python3"
  },
  "language_info": {
   "codemirror_mode": {
    "name": "ipython",
    "version": 3
   },
   "file_extension": ".py",
   "mimetype": "text/x-python",
   "name": "python",
   "nbconvert_exporter": "python",
   "pygments_lexer": "ipython3",
   "version": "3.11.9"
  }
 },
 "nbformat": 4,
 "nbformat_minor": 5
}
