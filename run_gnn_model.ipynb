{
 "cells": [
  {
   "cell_type": "code",
   "execution_count": null,
   "id": "93769c2c",
   "metadata": {},
   "outputs": [],
   "source": [
    "import os\n",
    "import datetime\n",
    "import time\n",
    "from IPython.display import clear_output\n",
    "\n",
    "import torch\n",
    "from torch.optim.lr_scheduler import CosineAnnealingLR\n",
    "from torch_geometric.loader.dataloader import DataLoader\n",
    "import torch.nn.functional as F\n",
    "\n",
    "from sklearn.model_selection import train_test_split\n",
    "\n",
    "from ClusterDataset import ClusterDataset\n",
    "from training import *\n",
    "from data_statistics import *\n",
    "\n",
    "from GNN_TrackLinkingNet import GNN_TrackLinkingNet, FocalLoss, EarlyStopping, weight_init\n",
    "\n",
    "from IPython.display import display"
   ]
  },
  {
   "cell_type": "code",
   "execution_count": null,
   "id": "2f01ac58",
   "metadata": {},
   "outputs": [],
   "source": [
    "# CUDA Setup\n",
    "device = torch.device('cuda' if torch.cuda.is_available() else \"cpu\")\n",
    "# device = torch.device(\"cpu\")\n",
    "\n",
    "print(f\"Using device: {device}\")"
   ]
  },
  {
   "cell_type": "code",
   "execution_count": null,
   "id": "7c0a8e8b",
   "metadata": {
    "scrolled": true
   },
   "outputs": [],
   "source": [
    "# Load the dataset\n",
    "hist_folder = \"/eos/user/c/czeh/histo_new/\"\n",
    "data_folder_training = \"/eos/user/c/czeh/graph_data\"\n",
    "data_folder_test = \"/eos/user/c/czeh/graph_data_test\"\n",
    "\n",
    "model_folder = \"/eos/user/c/czeh/model\"\n",
    "dataset_training = ClusterDataset(data_folder_training, hist_folder)\n",
    "dataset_test = ClusterDataset(data_folder_test, hist_folder, test=True)"
   ]
  },
  {
   "cell_type": "code",
   "execution_count": null,
   "id": "79d1beba",
   "metadata": {},
   "outputs": [],
   "source": [
    "print_dataset_statistics(dataset_training)"
   ]
  },
  {
   "cell_type": "code",
   "execution_count": null,
   "id": "6e09a9a3",
   "metadata": {},
   "outputs": [],
   "source": [
    "print_dataset_statistics(dataset_test)"
   ]
  },
  {
   "cell_type": "code",
   "execution_count": null,
   "id": "efe87ea9",
   "metadata": {},
   "outputs": [],
   "source": [
    "train_dl = DataLoader(dataset_training, shuffle=True)\n",
    "test_dl = DataLoader(dataset_test, shuffle=True)"
   ]
  },
  {
   "cell_type": "code",
   "execution_count": null,
   "id": "a9114849",
   "metadata": {},
   "outputs": [],
   "source": [
    "epochs = 200\n",
    "start_epoch = 0\n",
    "\n",
    "model = GNN_TrackLinkingNet(input_dim = dataset_training.get(0).x.shape[1], \n",
    "                                edge_feature_dim=dataset_training.get(0).edges_features.shape[1],\n",
    "                                edge_hidden_dim=16, hidden_dim=16, weighted_aggr=True,\n",
    "                               dropout=0.3)\n",
    "model = model.to(device)\n",
    "optimizer = torch.optim.Adam(model.parameters(), lr=0.001)\n",
    "\n",
    "scheduler = CosineAnnealingLR(optimizer, epochs, eta_min=1e-6)\n",
    "loss_obj = FocalLoss(alpha=0.45, gamma=2)\n",
    "early_stopping = EarlyStopping()\n",
    "\n",
    "model.apply(weight_init)\n",
    "\n",
    "# weights = torch.load(model_folder + \"/model_epoch_100_loss_26.8352_2025-05-13.pt\", weights_only=True)\n",
    "# model.load_state_dict(weights[\"model_state_dict\"])\n",
    "# optimizer.load_state_dict(weights[\"optimizer_state_dict\"])\n",
    "# start_epoch = weights[\"epoch\"]"
   ]
  },
  {
   "cell_type": "code",
   "execution_count": null,
   "id": "31648324",
   "metadata": {
    "scrolled": false
   },
   "outputs": [],
   "source": [
    "# decision_th = 0.5\n",
    "os.makedirs(model_folder, exist_ok=True)\n",
    "\n",
    "train_loss_hist = []\n",
    "val_loss_hist = []\n",
    "edge_features = True\n",
    "date = f\"{datetime.now():%Y-%m-%d}\"\n",
    "\n",
    "fig_loss, ax_loss = plt.subplots(1, 1)\n",
    "fig_loss.set_figwidth(6)\n",
    "fig_loss.set_figheight(3)\n",
    "\n",
    "fig_analysis, ax_analysis = plt.subplots(6, 2)\n",
    "fig_analysis.set_figwidth(15)\n",
    "fig_analysis.set_figheight(20)\n",
    "fig_analysis.tight_layout(pad=2.0)\n",
    "\n",
    "display_loss = display(1, display_id=True)\n",
    "display_analysis = display(2, display_id=True)\n",
    "\n",
    "for epoch in range(start_epoch, epochs):\n",
    "    print(f'Epoch: {epoch+1}')\n",
    "    \n",
    "    loss = train(model, optimizer, train_dl, epoch+1, device=device, edge_features=edge_features, loss_obj=loss_obj)\n",
    "    train_loss_hist.append(loss)\n",
    "    \n",
    "    val_loss, pred, y = test(model, test_dl, epoch+1, loss_obj=loss_obj, edge_features=edge_features, device=device)\n",
    "    val_loss_hist.append(val_loss)\n",
    "    \n",
    "    ax_loss.clear()\n",
    "    plot_loss(train_loss_hist, val_loss_hist, ax=ax_loss)\n",
    "    display_loss.update(fig_loss)\n",
    "    time.sleep(1)\n",
    "    \n",
    "    early_stopping(model, val_loss)\n",
    "    if early_stopping.early_stop:\n",
    "        print(f\"Early stopping after {epoch+1} epochs\")\n",
    "        early_stopping.load_best_model(model)\n",
    "        \n",
    "        for axes in ax_analysis:\n",
    "            for ax in axes:\n",
    "                ax.clear()\n",
    "            \n",
    "        plot_validation_results(pred, y, save=True, ax=ax_analysis, output_folder=model_folder, file_suffix=f\"epoch_{epoch+1}_date_{date}\")\n",
    "        display_analysis.update(fig_analysis)\n",
    "        time.sleep(1)\n",
    "        break\n",
    "      \n",
    "    if ((epoch+1)%60==0 or epoch+1==epochs):\n",
    "        print(f'Epoch: {epoch+1}')\n",
    "        \n",
    "        for axes in ax_analysis:\n",
    "            for ax in axes:\n",
    "                ax.clear()\n",
    "            \n",
    "        plot_validation_results(pred, y, save=True, ax=ax_analysis, output_folder=model_folder, file_suffix=f\"epoch_{epoch+1}_date_{date}\")\n",
    "        display_analysis.update(fig_analysis)\n",
    "        time.sleep(1)\n",
    "        \n",
    "        save_model(model, epoch, optimizer, loss, val_loss, output_folder=model_folder, filename=f\"epoch_{epoch+1}_date_{date}_loss_{loss:.4f}.pt\")\n",
    "    elif ((epoch+1)%20==0):\n",
    "        print(f'Epoch: {epoch+1}')\n",
    "        \n",
    "        for axes in ax_analysis:\n",
    "            for ax in axes:\n",
    "                ax.clear()\n",
    "        plot_validation_results(pred, y, save=False, ax=ax_analysis) \n",
    "        display_analysis.update(fig_analysis)\n",
    "        time.sleep(1)\n",
    "\n",
    "    scheduler.step() "
   ]
  },
  {
   "cell_type": "code",
   "execution_count": null,
   "id": "c62fefbb",
   "metadata": {},
   "outputs": [],
   "source": []
  },
  {
   "cell_type": "code",
   "execution_count": null,
   "id": "6e553031",
   "metadata": {},
   "outputs": [],
   "source": []
  },
  {
   "cell_type": "code",
   "execution_count": null,
   "id": "197eeb96",
   "metadata": {},
   "outputs": [],
   "source": []
  }
 ],
 "metadata": {
  "@webio": {
   "lastCommId": null,
   "lastKernelId": null
  },
  "kernelspec": {
   "display_name": "Python 3",
   "language": "python",
   "name": "python3"
  },
  "language_info": {
   "codemirror_mode": {
    "name": "ipython",
    "version": 3
   },
   "file_extension": ".py",
   "mimetype": "text/x-python",
   "name": "python",
   "nbconvert_exporter": "python",
   "pygments_lexer": "ipython3",
   "version": "3.11.9"
  }
 },
 "nbformat": 4,
 "nbformat_minor": 5
}
