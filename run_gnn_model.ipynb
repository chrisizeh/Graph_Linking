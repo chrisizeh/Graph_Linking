{
 "cells": [
  {
   "cell_type": "code",
   "execution_count": null,
   "id": "93769c2c",
   "metadata": {},
   "outputs": [],
   "source": [
    "import os\n",
    "from IPython.display import clear_output\n",
    "\n",
    "import torch\n",
    "from torch.optim.lr_scheduler import CosineAnnealingLR\n",
    "from torch_geometric.loader.dataloader import DataLoader\n",
    "import torch.nn.functional as F\n",
    "\n",
    "from sklearn.model_selection import train_test_split\n",
    "\n",
    "from ClusterDataset import ClusterDataset\n",
    "from training import *\n",
    "from GNN_TrackLinkingNet import GNN_TrackLinkingNet, FocalLoss, weight_init"
   ]
  },
  {
   "cell_type": "code",
   "execution_count": null,
   "id": "2f01ac58",
   "metadata": {},
   "outputs": [],
   "source": [
    "# CUDA Setup\n",
    "device = torch.device('cuda' if torch.cuda.is_available() else \"cpu\")\n",
    "# device = torch.device(\"cpu\")\n",
    "\n",
    "print(f\"Using device: {device}\")"
   ]
  },
  {
   "cell_type": "code",
   "execution_count": null,
   "id": "7c0a8e8b",
   "metadata": {
    "scrolled": false
   },
   "outputs": [],
   "source": [
    "# Load the dataset\n",
    "hist_folder = \"/eos/user/c/czeh/histo_new/\"\n",
    "data_folder_training = \"/eos/user/c/czeh/graph_data\"\n",
    "data_folder_test = \"/eos/user/c/czeh/graph_data_test\"\n",
    "\n",
    "model_folder = \"/eos/user/c/czeh/model\"\n",
    "dataset_training = ClusterDataset(data_folder_training, hist_folder)\n",
    "dataset_test = ClusterDataset(data_folder_test, hist_folder, test=True)"
   ]
  },
  {
   "cell_type": "code",
   "execution_count": null,
   "id": "79d1beba",
   "metadata": {},
   "outputs": [],
   "source": [
    "dataset_training.get(0)"
   ]
  },
  {
   "cell_type": "code",
   "execution_count": null,
   "id": "efe87ea9",
   "metadata": {},
   "outputs": [],
   "source": [
    "train_dl = DataLoader(dataset_training, shuffle=True)\n",
    "test_dl = DataLoader(dataset_test, shuffle=True)"
   ]
  },
  {
   "cell_type": "code",
   "execution_count": null,
   "id": "a9114849",
   "metadata": {},
   "outputs": [],
   "source": [
    "epochs = 1000\n",
    "start_epoch = 0\n",
    "\n",
    "model = GNN_TrackLinkingNet(input_dim = dataset_training.get(0).x.shape[1], \n",
    "                                edge_feature_dim=dataset_training.get(0).edges_features.shape[1],\n",
    "                                edge_hidden_dim=16, hidden_dim=16, weighted_aggr=True)\n",
    "                               #dropout=0)\n",
    "model = model.to(device)\n",
    "optimizer = torch.optim.Adam(model.parameters(), lr=0.001)\n",
    "#scheduler = StepLR(optimizer, step_size=20, gamma=0.5)\n",
    "\n",
    "scheduler = CosineAnnealingLR(optimizer, epochs, eta_min=1e-6)\n",
    "loss_obj = FocalLoss(alpha=0.7, gamma=2)\n",
    "\n",
    "model.apply(weight_init)\n",
    "\n",
    "weights = torch.load(model_folder + \"/model_epoch_500_loss_0.3088.pt\", weights_only=True)\n",
    "\n",
    "model.load_state_dict(weights[\"model_state_dict\"])\n",
    "optimizer.load_state_dict(weights[\"optimizer_state_dict\"])\n",
    "start_epoch = weights[\"epoch\"]"
   ]
  },
  {
   "cell_type": "code",
   "execution_count": null,
   "id": "31648324",
   "metadata": {
    "scrolled": false
   },
   "outputs": [],
   "source": [
    "decision_th = 0.5\n",
    "os.makedirs(model_folder, exist_ok=True)\n",
    "\n",
    "train_loss_hist = []\n",
    "val_loss_hist = []\n",
    "edge_features = True\n",
    "\n",
    "for epoch in range(start_epoch, epochs):\n",
    "    loss = train(model, optimizer, train_dl, epoch+1, device=device, edge_features=edge_features, loss_obj=loss_obj)\n",
    "    train_loss_hist.append(loss)\n",
    "    print(f'Epoch: {epoch+1}, train loss: {loss:.4f}')\n",
    "    \n",
    "    # Validation\n",
    "    model.eval()\n",
    "    pred, lab = [], []\n",
    "    val_loss, j = 0, 0\n",
    "    print(\"Validation step\")\n",
    "    for sample in tqdm(test_dl, desc=\"Validation\"):\n",
    "        sample = sample.to(device)\n",
    "        \n",
    "        if edge_features:\n",
    "            if sample.edge_index.shape[1] != sample.edges_features.shape[0]:\n",
    "                continue\n",
    "            data = prepare_network_input_data(sample.x, sample.edge_index, edge_features=sample.edges_features)\n",
    "        else: \n",
    "            data = prepare_network_input_data(sample.x, sample.edge_index)\n",
    "        #nn_pred, edge_emb = model(*data, device=device)\n",
    "        nn_pred = model(*data, device=device)\n",
    "        pred += nn_pred.tolist()\n",
    "        lab += sample.y.tolist()\n",
    "        val_loss += loss_obj(nn_pred, sample.y.float()).item()\n",
    "        j += 1\n",
    "        \n",
    "    val_loss = float(val_loss)/j\n",
    "    print(f'Epoch: {epoch+1}, val loss: {val_loss:.4f}')\n",
    "    val_loss_hist.append(val_loss)\n",
    "    \n",
    "    if ((epoch - 49) % 50 == 0):\n",
    "        clear_output(wait=True)\n",
    "        \n",
    "        print(f\">>> Saving model to {model_folder + f'/model_epoch_{epoch+1}_loss_{loss:.4f}.pt'}\")\n",
    "        torch.save({'epoch': epoch+1,\n",
    "                'model_state_dict': model.state_dict(),\n",
    "                'optimizer_state_dict': optimizer.state_dict(),\n",
    "                }, model_folder + f'/model_epoch_{epoch+1}_loss_{loss:.4f}.pt')\n",
    "        \n",
    "        TNR, TPR, thresholds = classification_thresholds_plot(np.array(pred), np.array(lab),\n",
    "                                                              threshold_step=0.05, output_folder=model_folder,\n",
    "                                                              epoch=epoch+1)\n",
    "        classification_threshold = get_best_threshold(TNR, TPR, thresholds)\n",
    "        print(f\"Chosen classification threshold is: {classification_threshold}\")\n",
    "\n",
    "        plot_prediction_distribution_standard_and_log(np.array(pred), np.array(lab),\n",
    "                                                      epoch=epoch+1, thr = classification_threshold,\n",
    "                                                     folder=model_folder, val=True)\n",
    "\n",
    "        test(np.array(lab), np.array(pred), classification_threshold=classification_threshold,\n",
    "                            output_folder=model_folder, epoch=epoch+1)\n",
    "        save_pred(np.array(pred), np.array(lab), epoch=epoch, out_folder=model_folder)\n",
    "        save_loss(train_loss_hist, val_loss_hist, outputLossFunctionPath=model_folder)\n",
    "\n",
    "    scheduler.step() "
   ]
  },
  {
   "cell_type": "code",
   "execution_count": null,
   "id": "c62fefbb",
   "metadata": {},
   "outputs": [],
   "source": []
  }
 ],
 "metadata": {
  "@webio": {
   "lastCommId": null,
   "lastKernelId": null
  },
  "kernelspec": {
   "display_name": "Python 3",
   "language": "python",
   "name": "python3"
  },
  "language_info": {
   "codemirror_mode": {
    "name": "ipython",
    "version": 3
   },
   "file_extension": ".py",
   "mimetype": "text/x-python",
   "name": "python",
   "nbconvert_exporter": "python",
   "pygments_lexer": "ipython3",
   "version": "3.11.9"
  }
 },
 "nbformat": 4,
 "nbformat_minor": 5
}
